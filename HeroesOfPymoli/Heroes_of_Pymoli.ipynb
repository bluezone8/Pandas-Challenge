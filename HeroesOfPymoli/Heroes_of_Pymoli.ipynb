{
 "cells": [
  {
   "cell_type": "markdown",
   "metadata": {},
   "source": [
    "# Heroes of Pymoli\n",
    "\n",
    "#For the Heroes of Pymoli, I used Python, Jupyter Notebook, Pandas Library, and Numpy Library to analyze the data to view trends in the purchasing behavior of the players. Here are the three keys I found in my analysis: \n",
    "\n",
    "Top players were male totaled 84% vs female players (14%).\n",
    "\n",
    "The 20-24 ages and consisted of 45% that spend the most money. The group made 365 purchases with an average purchase of $4.32, and $1,114.06 as total purchase value. \n",
    "\n",
    "The Oathbreaker, Last Hope of the Breaking Storm listed as the popular and profitable items. \n"
   ]
  },
  {
   "cell_type": "code",
   "execution_count": 59,
   "metadata": {},
   "outputs": [],
   "source": [
    "# Dependencies \n",
    "import pandas as pd\n",
    "import numpy as np"
   ]
  },
  {
   "cell_type": "code",
   "execution_count": 60,
   "metadata": {},
   "outputs": [],
   "source": [
    "# File to load\n",
    "file = \"purchase_data.csv\""
   ]
  },
  {
   "cell_type": "code",
   "execution_count": 51,
   "metadata": {},
   "outputs": [
    {
     "data": {
      "text/html": [
       "<div>\n",
       "<style scoped>\n",
       "    .dataframe tbody tr th:only-of-type {\n",
       "        vertical-align: middle;\n",
       "    }\n",
       "\n",
       "    .dataframe tbody tr th {\n",
       "        vertical-align: top;\n",
       "    }\n",
       "\n",
       "    .dataframe thead th {\n",
       "        text-align: right;\n",
       "    }\n",
       "</style>\n",
       "<table border=\"1\" class=\"dataframe\">\n",
       "  <thead>\n",
       "    <tr style=\"text-align: right;\">\n",
       "      <th></th>\n",
       "      <th>Purchase ID</th>\n",
       "      <th>SN</th>\n",
       "      <th>Age</th>\n",
       "      <th>Gender</th>\n",
       "      <th>Item ID</th>\n",
       "      <th>Item Name</th>\n",
       "      <th>Price</th>\n",
       "    </tr>\n",
       "  </thead>\n",
       "  <tbody>\n",
       "    <tr>\n",
       "      <th>0</th>\n",
       "      <td>0</td>\n",
       "      <td>Lisim78</td>\n",
       "      <td>20</td>\n",
       "      <td>Male</td>\n",
       "      <td>108</td>\n",
       "      <td>Extraction, Quickblade Of Trembling Hands</td>\n",
       "      <td>3.53</td>\n",
       "    </tr>\n",
       "    <tr>\n",
       "      <th>1</th>\n",
       "      <td>1</td>\n",
       "      <td>Lisovynya38</td>\n",
       "      <td>40</td>\n",
       "      <td>Male</td>\n",
       "      <td>143</td>\n",
       "      <td>Frenzied Scimitar</td>\n",
       "      <td>1.56</td>\n",
       "    </tr>\n",
       "    <tr>\n",
       "      <th>2</th>\n",
       "      <td>2</td>\n",
       "      <td>Ithergue48</td>\n",
       "      <td>24</td>\n",
       "      <td>Male</td>\n",
       "      <td>92</td>\n",
       "      <td>Final Critic</td>\n",
       "      <td>4.88</td>\n",
       "    </tr>\n",
       "    <tr>\n",
       "      <th>3</th>\n",
       "      <td>3</td>\n",
       "      <td>Chamassasya86</td>\n",
       "      <td>24</td>\n",
       "      <td>Male</td>\n",
       "      <td>100</td>\n",
       "      <td>Blindscythe</td>\n",
       "      <td>3.27</td>\n",
       "    </tr>\n",
       "    <tr>\n",
       "      <th>4</th>\n",
       "      <td>4</td>\n",
       "      <td>Iskosia90</td>\n",
       "      <td>23</td>\n",
       "      <td>Male</td>\n",
       "      <td>131</td>\n",
       "      <td>Fury</td>\n",
       "      <td>1.44</td>\n",
       "    </tr>\n",
       "  </tbody>\n",
       "</table>\n",
       "</div>"
      ],
      "text/plain": [
       "   Purchase ID             SN  Age Gender  Item ID  \\\n",
       "0            0        Lisim78   20   Male      108   \n",
       "1            1    Lisovynya38   40   Male      143   \n",
       "2            2     Ithergue48   24   Male       92   \n",
       "3            3  Chamassasya86   24   Male      100   \n",
       "4            4      Iskosia90   23   Male      131   \n",
       "\n",
       "                                   Item Name  Price  \n",
       "0  Extraction, Quickblade Of Trembling Hands   3.53  \n",
       "1                          Frenzied Scimitar   1.56  \n",
       "2                               Final Critic   4.88  \n",
       "3                                Blindscythe   3.27  \n",
       "4                                       Fury   1.44  "
      ]
     },
     "execution_count": 51,
     "metadata": {},
     "output_type": "execute_result"
    }
   ],
   "source": [
    "# To open the file as DataFrame \n",
    "purchase_data_pd = pd.read_csv(file)\n",
    "purchase_data_pd.head()"
   ]
  },
  {
   "cell_type": "code",
   "execution_count": 61,
   "metadata": {},
   "outputs": [
    {
     "data": {
      "text/html": [
       "<div>\n",
       "<style scoped>\n",
       "    .dataframe tbody tr th:only-of-type {\n",
       "        vertical-align: middle;\n",
       "    }\n",
       "\n",
       "    .dataframe tbody tr th {\n",
       "        vertical-align: top;\n",
       "    }\n",
       "\n",
       "    .dataframe thead th {\n",
       "        text-align: right;\n",
       "    }\n",
       "</style>\n",
       "<table border=\"1\" class=\"dataframe\">\n",
       "  <thead>\n",
       "    <tr style=\"text-align: right;\">\n",
       "      <th></th>\n",
       "      <th>Total Players</th>\n",
       "    </tr>\n",
       "  </thead>\n",
       "  <tbody>\n",
       "    <tr>\n",
       "      <th>0</th>\n",
       "      <td>576</td>\n",
       "    </tr>\n",
       "  </tbody>\n",
       "</table>\n",
       "</div>"
      ],
      "text/plain": [
       "   Total Players\n",
       "0            576"
      ]
     },
     "execution_count": 61,
     "metadata": {},
     "output_type": "execute_result"
    }
   ],
   "source": [
    "# Player count by \"SN\", for total players.\n",
    "total_players = len(purchase_data_pd[\"SN\"].value_counts())\n",
    "\n",
    "# The total players named player count\n",
    "player_count = pd.DataFrame({\"Total Players\":[total_players]})\n",
    "player_count"
   ]
  },
  {
   "cell_type": "markdown",
   "metadata": {},
   "source": [
    "# Purchasing Analysis (Total)\n",
    "#Number of Unique Items\n",
    "#Average Purchase Price\n",
    "#Total Number of Purchases\n",
    "#Total Revenue"
   ]
  },
  {
   "cell_type": "code",
   "execution_count": 62,
   "metadata": {},
   "outputs": [
    {
     "data": {
      "text/html": [
       "<style  type=\"text/css\" >\n",
       "</style><table id=\"T_d1da3cfa_f20a_11e9_9696_e82aea674025\" ><thead>    <tr>        <th class=\"blank level0\" ></th>        <th class=\"col_heading level0 col0\" >Number of Unique Items</th>        <th class=\"col_heading level0 col1\" >Average Price</th>        <th class=\"col_heading level0 col2\" >Number of Purchases</th>        <th class=\"col_heading level0 col3\" >Total Revenue</th>    </tr></thead><tbody>\n",
       "                <tr>\n",
       "                        <th id=\"T_d1da3cfa_f20a_11e9_9696_e82aea674025level0_row0\" class=\"row_heading level0 row0\" >0</th>\n",
       "                        <td id=\"T_d1da3cfa_f20a_11e9_9696_e82aea674025row0_col0\" class=\"data row0 col0\" >183</td>\n",
       "                        <td id=\"T_d1da3cfa_f20a_11e9_9696_e82aea674025row0_col1\" class=\"data row0 col1\" >$3.05</td>\n",
       "                        <td id=\"T_d1da3cfa_f20a_11e9_9696_e82aea674025row0_col2\" class=\"data row0 col2\" >780</td>\n",
       "                        <td id=\"T_d1da3cfa_f20a_11e9_9696_e82aea674025row0_col3\" class=\"data row0 col3\" >$2,379.77</td>\n",
       "            </tr>\n",
       "    </tbody></table>"
      ],
      "text/plain": [
       "<pandas.io.formats.style.Styler at 0x1cfdb8d4f98>"
      ]
     },
     "execution_count": 62,
     "metadata": {},
     "output_type": "execute_result"
    }
   ],
   "source": [
    "# Number of Unique Items\n",
    "number_of_unique_items = len((purchase_data_pd[\"Item ID\"]).unique())\n",
    "\n",
    "# Average Purchase Price\n",
    "average_price = (purchase_data_pd[\"Price\"]).mean()\n",
    "\n",
    "# Total Number of Purchases\n",
    "number_of_purchases = (purchase_data_pd[\"Purchase ID\"]).count()\n",
    "\n",
    "# Total Revenue\n",
    "total_revenue = (purchase_data_pd[\"Price\"]).sum()\n",
    "\n",
    "#Create a DataFrame with obtained values\n",
    "summary_df = pd.DataFrame({\"Number of Unique Items\":[number_of_unique_items],\n",
    "                           \"Average Price\":[average_price], \n",
    "                           \"Number of Purchases\": [number_of_purchases], \n",
    "                           \"Total Revenue\": [total_revenue]})\n",
    "\n",
    "# Format with currency style\n",
    "summary_df.style.format({'Average Price':\"${:,.2f}\",\n",
    "                         'Total Revenue': '${:,.2f}'})"
   ]
  },
  {
   "cell_type": "markdown",
   "metadata": {},
   "source": [
    "# Gender Demographics\n",
    "\n",
    "#Percentage and Count of Male Players\n",
    "\n",
    "#Percentage and Count of Female Players\n",
    "\n",
    "#Percentage and Count of Other / Non-Disclosed"
   ]
  },
  {
   "cell_type": "code",
   "execution_count": 63,
   "metadata": {},
   "outputs": [
    {
     "data": {
      "text/html": [
       "<style  type=\"text/css\" >\n",
       "</style><table id=\"T_d416ff8c_f20a_11e9_8bd5_e82aea674025\" ><thead>    <tr>        <th class=\"blank level0\" ></th>        <th class=\"col_heading level0 col0\" >Percentage of Players</th>        <th class=\"col_heading level0 col1\" >Total Count</th>    </tr></thead><tbody>\n",
       "                <tr>\n",
       "                        <th id=\"T_d416ff8c_f20a_11e9_8bd5_e82aea674025level0_row0\" class=\"row_heading level0 row0\" >Male</th>\n",
       "                        <td id=\"T_d416ff8c_f20a_11e9_8bd5_e82aea674025row0_col0\" class=\"data row0 col0\" >84.03</td>\n",
       "                        <td id=\"T_d416ff8c_f20a_11e9_8bd5_e82aea674025row0_col1\" class=\"data row0 col1\" >484</td>\n",
       "            </tr>\n",
       "            <tr>\n",
       "                        <th id=\"T_d416ff8c_f20a_11e9_8bd5_e82aea674025level0_row1\" class=\"row_heading level0 row1\" >Female</th>\n",
       "                        <td id=\"T_d416ff8c_f20a_11e9_8bd5_e82aea674025row1_col0\" class=\"data row1 col0\" >14.06</td>\n",
       "                        <td id=\"T_d416ff8c_f20a_11e9_8bd5_e82aea674025row1_col1\" class=\"data row1 col1\" >81</td>\n",
       "            </tr>\n",
       "            <tr>\n",
       "                        <th id=\"T_d416ff8c_f20a_11e9_8bd5_e82aea674025level0_row2\" class=\"row_heading level0 row2\" >Other / Non-Disclosed</th>\n",
       "                        <td id=\"T_d416ff8c_f20a_11e9_8bd5_e82aea674025row2_col0\" class=\"data row2 col0\" >1.91</td>\n",
       "                        <td id=\"T_d416ff8c_f20a_11e9_8bd5_e82aea674025row2_col1\" class=\"data row2 col1\" >11</td>\n",
       "            </tr>\n",
       "    </tbody></table>"
      ],
      "text/plain": [
       "<pandas.io.formats.style.Styler at 0x1cfdb8fe4a8>"
      ]
     },
     "execution_count": 63,
     "metadata": {},
     "output_type": "execute_result"
    }
   ],
   "source": [
    "# Group by Gender\n",
    "gender_stats = purchase_data_pd.groupby(\"Gender\")\n",
    "\n",
    "# Count the total of screen names \"SN\" by gender\n",
    "total_count_gender = gender_stats.nunique()[\"SN\"]\n",
    "\n",
    "# Total count by gender and divivde by total players \n",
    "percentage_of_players = total_count_gender / total_players * 100\n",
    "\n",
    "# Number and Percentage by Gender\n",
    "gender_demographics = pd.DataFrame({\"Percentage of Players\": percentage_of_players, \"Total Count\": total_count_gender})\n",
    "gender_demographics.index.name = None\n",
    "gender_demographics.sort_values([\"Total Count\"], ascending = False).style.format({\"Percentage of Players\":\"{:.2f}\"})"
   ]
  },
  {
   "cell_type": "markdown",
   "metadata": {},
   "source": [
    "# Age Demographics\n",
    "\n",
    "#The below each broken into bins of 4 years (i.e. <10, 10-14, 15-19, etc.)\n",
    "\n",
    "#Percentage of Players\n",
    "\n",
    "#Total Count"
   ]
  },
  {
   "cell_type": "code",
   "execution_count": 64,
   "metadata": {},
   "outputs": [
    {
     "data": {
      "text/html": [
       "<style  type=\"text/css\" >\n",
       "</style><table id=\"T_d660ee52_f20a_11e9_a514_e82aea674025\" ><thead>    <tr>        <th class=\"blank level0\" ></th>        <th class=\"col_heading level0 col0\" >Percentage of Players</th>        <th class=\"col_heading level0 col1\" >Total Count</th>    </tr></thead><tbody>\n",
       "                <tr>\n",
       "                        <th id=\"T_d660ee52_f20a_11e9_a514_e82aea674025level0_row0\" class=\"row_heading level0 row0\" ><10</th>\n",
       "                        <td id=\"T_d660ee52_f20a_11e9_a514_e82aea674025row0_col0\" class=\"data row0 col0\" >2.95</td>\n",
       "                        <td id=\"T_d660ee52_f20a_11e9_a514_e82aea674025row0_col1\" class=\"data row0 col1\" >17</td>\n",
       "            </tr>\n",
       "            <tr>\n",
       "                        <th id=\"T_d660ee52_f20a_11e9_a514_e82aea674025level0_row1\" class=\"row_heading level0 row1\" >10-14</th>\n",
       "                        <td id=\"T_d660ee52_f20a_11e9_a514_e82aea674025row1_col0\" class=\"data row1 col0\" >3.82</td>\n",
       "                        <td id=\"T_d660ee52_f20a_11e9_a514_e82aea674025row1_col1\" class=\"data row1 col1\" >22</td>\n",
       "            </tr>\n",
       "            <tr>\n",
       "                        <th id=\"T_d660ee52_f20a_11e9_a514_e82aea674025level0_row2\" class=\"row_heading level0 row2\" >15-19</th>\n",
       "                        <td id=\"T_d660ee52_f20a_11e9_a514_e82aea674025row2_col0\" class=\"data row2 col0\" >18.58</td>\n",
       "                        <td id=\"T_d660ee52_f20a_11e9_a514_e82aea674025row2_col1\" class=\"data row2 col1\" >107</td>\n",
       "            </tr>\n",
       "            <tr>\n",
       "                        <th id=\"T_d660ee52_f20a_11e9_a514_e82aea674025level0_row3\" class=\"row_heading level0 row3\" >20-24</th>\n",
       "                        <td id=\"T_d660ee52_f20a_11e9_a514_e82aea674025row3_col0\" class=\"data row3 col0\" >44.79</td>\n",
       "                        <td id=\"T_d660ee52_f20a_11e9_a514_e82aea674025row3_col1\" class=\"data row3 col1\" >258</td>\n",
       "            </tr>\n",
       "            <tr>\n",
       "                        <th id=\"T_d660ee52_f20a_11e9_a514_e82aea674025level0_row4\" class=\"row_heading level0 row4\" >25-29</th>\n",
       "                        <td id=\"T_d660ee52_f20a_11e9_a514_e82aea674025row4_col0\" class=\"data row4 col0\" >13.37</td>\n",
       "                        <td id=\"T_d660ee52_f20a_11e9_a514_e82aea674025row4_col1\" class=\"data row4 col1\" >77</td>\n",
       "            </tr>\n",
       "            <tr>\n",
       "                        <th id=\"T_d660ee52_f20a_11e9_a514_e82aea674025level0_row5\" class=\"row_heading level0 row5\" >30-34</th>\n",
       "                        <td id=\"T_d660ee52_f20a_11e9_a514_e82aea674025row5_col0\" class=\"data row5 col0\" >9.03</td>\n",
       "                        <td id=\"T_d660ee52_f20a_11e9_a514_e82aea674025row5_col1\" class=\"data row5 col1\" >52</td>\n",
       "            </tr>\n",
       "            <tr>\n",
       "                        <th id=\"T_d660ee52_f20a_11e9_a514_e82aea674025level0_row6\" class=\"row_heading level0 row6\" >35-39</th>\n",
       "                        <td id=\"T_d660ee52_f20a_11e9_a514_e82aea674025row6_col0\" class=\"data row6 col0\" >5.38</td>\n",
       "                        <td id=\"T_d660ee52_f20a_11e9_a514_e82aea674025row6_col1\" class=\"data row6 col1\" >31</td>\n",
       "            </tr>\n",
       "            <tr>\n",
       "                        <th id=\"T_d660ee52_f20a_11e9_a514_e82aea674025level0_row7\" class=\"row_heading level0 row7\" >40+</th>\n",
       "                        <td id=\"T_d660ee52_f20a_11e9_a514_e82aea674025row7_col0\" class=\"data row7 col0\" >2.08</td>\n",
       "                        <td id=\"T_d660ee52_f20a_11e9_a514_e82aea674025row7_col1\" class=\"data row7 col1\" >12</td>\n",
       "            </tr>\n",
       "    </tbody></table>"
      ],
      "text/plain": [
       "<pandas.io.formats.style.Styler at 0x1cfdb8e6748>"
      ]
     },
     "execution_count": 64,
     "metadata": {},
     "output_type": "execute_result"
    }
   ],
   "source": [
    "# Binning\n",
    "age_bins = [0, 9.90, 14.90, 19.90, 24.90, 29.90, 34.90, 39.90, 99999]\n",
    "group_names = [\"<10\", \"10-14\", \"15-19\", \"20-24\", \"25-29\", \"30-34\", \"35-39\", \"40+\"]\n",
    "\n",
    "# Add bins to new DataFrame and Groupby\n",
    "purchase_data_pd[\"Age Group\"] = pd.cut(purchase_data_pd[\"Age\"],age_bins, labels=group_names)\n",
    "purchase_data_pd\n",
    "\n",
    "# Numbers and Percentages by Age Group\n",
    "age_grouped = purchase_data_pd.groupby(\"Age Group\")\n",
    "total_count_age = age_grouped[\"SN\"].nunique()\n",
    "percentage_by_age = (total_count_age/total_players) * 100\n",
    "age_demographics = pd.DataFrame({\"Percentage of Players\": percentage_by_age, \"Total Count\": total_count_age})\n",
    "\n",
    "# Format the DataFrame with no index name in the corner\n",
    "age_demographics.index.name = None\n",
    "\n",
    "# Format percentage with two decimal places \n",
    "age_demographics.style.format({\"Percentage of Players\":\"{:,.2f}\"})"
   ]
  },
  {
   "cell_type": "markdown",
   "metadata": {},
   "source": [
    "# Purchasing Analysis (Age)\n",
    "\n",
    "#The below each broken into bins of 4 years (i.e. <10, 10-14, 15-19, etc.)\n",
    "\n",
    "#Purchase Count\n",
    "\n",
    "#Average Purchase Price\n",
    "\n",
    "#Total Purchase Value\n",
    "\n",
    "#Average Purchase Total per Person by Age Group"
   ]
  },
  {
   "cell_type": "code",
   "execution_count": 65,
   "metadata": {},
   "outputs": [
    {
     "data": {
      "text/html": [
       "<style  type=\"text/css\" >\n",
       "</style><table id=\"T_d9c0ce1c_f20a_11e9_8976_e82aea674025\" ><thead>    <tr>        <th class=\"blank level0\" ></th>        <th class=\"col_heading level0 col0\" >Purchase Count</th>        <th class=\"col_heading level0 col1\" >Average Purchase Price</th>        <th class=\"col_heading level0 col2\" >Total Purchase Value</th>        <th class=\"col_heading level0 col3\" >Average Purchase Total per Person</th>    </tr></thead><tbody>\n",
       "                <tr>\n",
       "                        <th id=\"T_d9c0ce1c_f20a_11e9_8976_e82aea674025level0_row0\" class=\"row_heading level0 row0\" ><10</th>\n",
       "                        <td id=\"T_d9c0ce1c_f20a_11e9_8976_e82aea674025row0_col0\" class=\"data row0 col0\" >23</td>\n",
       "                        <td id=\"T_d9c0ce1c_f20a_11e9_8976_e82aea674025row0_col1\" class=\"data row0 col1\" >$3.35</td>\n",
       "                        <td id=\"T_d9c0ce1c_f20a_11e9_8976_e82aea674025row0_col2\" class=\"data row0 col2\" >$77.13</td>\n",
       "                        <td id=\"T_d9c0ce1c_f20a_11e9_8976_e82aea674025row0_col3\" class=\"data row0 col3\" >$4.54</td>\n",
       "            </tr>\n",
       "            <tr>\n",
       "                        <th id=\"T_d9c0ce1c_f20a_11e9_8976_e82aea674025level0_row1\" class=\"row_heading level0 row1\" >10-14</th>\n",
       "                        <td id=\"T_d9c0ce1c_f20a_11e9_8976_e82aea674025row1_col0\" class=\"data row1 col0\" >28</td>\n",
       "                        <td id=\"T_d9c0ce1c_f20a_11e9_8976_e82aea674025row1_col1\" class=\"data row1 col1\" >$2.96</td>\n",
       "                        <td id=\"T_d9c0ce1c_f20a_11e9_8976_e82aea674025row1_col2\" class=\"data row1 col2\" >$82.78</td>\n",
       "                        <td id=\"T_d9c0ce1c_f20a_11e9_8976_e82aea674025row1_col3\" class=\"data row1 col3\" >$3.76</td>\n",
       "            </tr>\n",
       "            <tr>\n",
       "                        <th id=\"T_d9c0ce1c_f20a_11e9_8976_e82aea674025level0_row2\" class=\"row_heading level0 row2\" >15-19</th>\n",
       "                        <td id=\"T_d9c0ce1c_f20a_11e9_8976_e82aea674025row2_col0\" class=\"data row2 col0\" >136</td>\n",
       "                        <td id=\"T_d9c0ce1c_f20a_11e9_8976_e82aea674025row2_col1\" class=\"data row2 col1\" >$3.04</td>\n",
       "                        <td id=\"T_d9c0ce1c_f20a_11e9_8976_e82aea674025row2_col2\" class=\"data row2 col2\" >$412.89</td>\n",
       "                        <td id=\"T_d9c0ce1c_f20a_11e9_8976_e82aea674025row2_col3\" class=\"data row2 col3\" >$3.86</td>\n",
       "            </tr>\n",
       "            <tr>\n",
       "                        <th id=\"T_d9c0ce1c_f20a_11e9_8976_e82aea674025level0_row3\" class=\"row_heading level0 row3\" >20-24</th>\n",
       "                        <td id=\"T_d9c0ce1c_f20a_11e9_8976_e82aea674025row3_col0\" class=\"data row3 col0\" >365</td>\n",
       "                        <td id=\"T_d9c0ce1c_f20a_11e9_8976_e82aea674025row3_col1\" class=\"data row3 col1\" >$3.05</td>\n",
       "                        <td id=\"T_d9c0ce1c_f20a_11e9_8976_e82aea674025row3_col2\" class=\"data row3 col2\" >$1,114.06</td>\n",
       "                        <td id=\"T_d9c0ce1c_f20a_11e9_8976_e82aea674025row3_col3\" class=\"data row3 col3\" >$4.32</td>\n",
       "            </tr>\n",
       "            <tr>\n",
       "                        <th id=\"T_d9c0ce1c_f20a_11e9_8976_e82aea674025level0_row4\" class=\"row_heading level0 row4\" >25-29</th>\n",
       "                        <td id=\"T_d9c0ce1c_f20a_11e9_8976_e82aea674025row4_col0\" class=\"data row4 col0\" >101</td>\n",
       "                        <td id=\"T_d9c0ce1c_f20a_11e9_8976_e82aea674025row4_col1\" class=\"data row4 col1\" >$2.90</td>\n",
       "                        <td id=\"T_d9c0ce1c_f20a_11e9_8976_e82aea674025row4_col2\" class=\"data row4 col2\" >$293.00</td>\n",
       "                        <td id=\"T_d9c0ce1c_f20a_11e9_8976_e82aea674025row4_col3\" class=\"data row4 col3\" >$3.81</td>\n",
       "            </tr>\n",
       "            <tr>\n",
       "                        <th id=\"T_d9c0ce1c_f20a_11e9_8976_e82aea674025level0_row5\" class=\"row_heading level0 row5\" >30-34</th>\n",
       "                        <td id=\"T_d9c0ce1c_f20a_11e9_8976_e82aea674025row5_col0\" class=\"data row5 col0\" >73</td>\n",
       "                        <td id=\"T_d9c0ce1c_f20a_11e9_8976_e82aea674025row5_col1\" class=\"data row5 col1\" >$2.93</td>\n",
       "                        <td id=\"T_d9c0ce1c_f20a_11e9_8976_e82aea674025row5_col2\" class=\"data row5 col2\" >$214.00</td>\n",
       "                        <td id=\"T_d9c0ce1c_f20a_11e9_8976_e82aea674025row5_col3\" class=\"data row5 col3\" >$4.12</td>\n",
       "            </tr>\n",
       "            <tr>\n",
       "                        <th id=\"T_d9c0ce1c_f20a_11e9_8976_e82aea674025level0_row6\" class=\"row_heading level0 row6\" >35-39</th>\n",
       "                        <td id=\"T_d9c0ce1c_f20a_11e9_8976_e82aea674025row6_col0\" class=\"data row6 col0\" >41</td>\n",
       "                        <td id=\"T_d9c0ce1c_f20a_11e9_8976_e82aea674025row6_col1\" class=\"data row6 col1\" >$3.60</td>\n",
       "                        <td id=\"T_d9c0ce1c_f20a_11e9_8976_e82aea674025row6_col2\" class=\"data row6 col2\" >$147.67</td>\n",
       "                        <td id=\"T_d9c0ce1c_f20a_11e9_8976_e82aea674025row6_col3\" class=\"data row6 col3\" >$4.76</td>\n",
       "            </tr>\n",
       "            <tr>\n",
       "                        <th id=\"T_d9c0ce1c_f20a_11e9_8976_e82aea674025level0_row7\" class=\"row_heading level0 row7\" >40+</th>\n",
       "                        <td id=\"T_d9c0ce1c_f20a_11e9_8976_e82aea674025row7_col0\" class=\"data row7 col0\" >13</td>\n",
       "                        <td id=\"T_d9c0ce1c_f20a_11e9_8976_e82aea674025row7_col1\" class=\"data row7 col1\" >$2.94</td>\n",
       "                        <td id=\"T_d9c0ce1c_f20a_11e9_8976_e82aea674025row7_col2\" class=\"data row7 col2\" >$38.24</td>\n",
       "                        <td id=\"T_d9c0ce1c_f20a_11e9_8976_e82aea674025row7_col3\" class=\"data row7 col3\" >$3.19</td>\n",
       "            </tr>\n",
       "    </tbody></table>"
      ],
      "text/plain": [
       "<pandas.io.formats.style.Styler at 0x1cfdb8f21d0>"
      ]
     },
     "execution_count": 65,
     "metadata": {},
     "output_type": "execute_result"
    }
   ],
   "source": [
    "# Count purchases by age group\n",
    "purchase_count_age = age_grouped[\"Purchase ID\"].count()\n",
    "\n",
    "# Obtain average purchase price by age group \n",
    "avg_purchase_price_age = age_grouped[\"Price\"].mean()\n",
    "\n",
    "# Total purchase value by age group \n",
    "total_purchase_value = age_grouped[\"Price\"].sum()\n",
    "\n",
    "# Average purchase per person in the age group \n",
    "avg_purchase_per_person_age = total_purchase_value/total_count_age\n",
    "\n",
    "# Create data frame with obtained values\n",
    "age_demographics = pd.DataFrame({\"Purchase Count\": purchase_count_age,\n",
    "                                 \"Average Purchase Price\": avg_purchase_price_age,\n",
    "                                 \"Total Purchase Value\":total_purchase_value,\n",
    "                                 \"Average Purchase Total per Person\": avg_purchase_per_person_age})\n",
    "\n",
    "# Format the data frame with no index name in the corner\n",
    "age_demographics.index.name = None\n",
    "\n",
    "# Format with currency style\n",
    "age_demographics.style.format({\"Average Purchase Price\":\"${:,.2f}\",\n",
    "                               \"Total Purchase Value\":\"${:,.2f}\",\n",
    "                               \"Average Purchase Total per Person\":\"${:,.2f}\"})"
   ]
  },
  {
   "cell_type": "markdown",
   "metadata": {},
   "source": [
    "# Top Spenders\n",
    "\n",
    "#Identify the the top 5 spenders in the game by total purchase value, then list (in a table):\n",
    "\n",
    "#SN(screen name)\n",
    "\n",
    "#Purchase Count\n",
    "\n",
    "#Average Purchase Price\n",
    "\n",
    "#Total Purchase Value"
   ]
  },
  {
   "cell_type": "code",
   "execution_count": 66,
   "metadata": {},
   "outputs": [
    {
     "data": {
      "text/html": [
       "<style  type=\"text/css\" >\n",
       "</style><table id=\"T_dc8802fe_f20a_11e9_a058_e82aea674025\" ><thead>    <tr>        <th class=\"blank level0\" ></th>        <th class=\"col_heading level0 col0\" >Purchase Count</th>        <th class=\"col_heading level0 col1\" >Average Purchase Price</th>        <th class=\"col_heading level0 col2\" >Total Purchase Value</th>    </tr>    <tr>        <th class=\"index_name level0\" >SN</th>        <th class=\"blank\" ></th>        <th class=\"blank\" ></th>        <th class=\"blank\" ></th>    </tr></thead><tbody>\n",
       "                <tr>\n",
       "                        <th id=\"T_dc8802fe_f20a_11e9_a058_e82aea674025level0_row0\" class=\"row_heading level0 row0\" >Lisosia93</th>\n",
       "                        <td id=\"T_dc8802fe_f20a_11e9_a058_e82aea674025row0_col0\" class=\"data row0 col0\" >5</td>\n",
       "                        <td id=\"T_dc8802fe_f20a_11e9_a058_e82aea674025row0_col1\" class=\"data row0 col1\" >$3.79</td>\n",
       "                        <td id=\"T_dc8802fe_f20a_11e9_a058_e82aea674025row0_col2\" class=\"data row0 col2\" >$18.96</td>\n",
       "            </tr>\n",
       "            <tr>\n",
       "                        <th id=\"T_dc8802fe_f20a_11e9_a058_e82aea674025level0_row1\" class=\"row_heading level0 row1\" >Idastidru52</th>\n",
       "                        <td id=\"T_dc8802fe_f20a_11e9_a058_e82aea674025row1_col0\" class=\"data row1 col0\" >4</td>\n",
       "                        <td id=\"T_dc8802fe_f20a_11e9_a058_e82aea674025row1_col1\" class=\"data row1 col1\" >$3.86</td>\n",
       "                        <td id=\"T_dc8802fe_f20a_11e9_a058_e82aea674025row1_col2\" class=\"data row1 col2\" >$15.45</td>\n",
       "            </tr>\n",
       "            <tr>\n",
       "                        <th id=\"T_dc8802fe_f20a_11e9_a058_e82aea674025level0_row2\" class=\"row_heading level0 row2\" >Chamjask73</th>\n",
       "                        <td id=\"T_dc8802fe_f20a_11e9_a058_e82aea674025row2_col0\" class=\"data row2 col0\" >3</td>\n",
       "                        <td id=\"T_dc8802fe_f20a_11e9_a058_e82aea674025row2_col1\" class=\"data row2 col1\" >$4.61</td>\n",
       "                        <td id=\"T_dc8802fe_f20a_11e9_a058_e82aea674025row2_col2\" class=\"data row2 col2\" >$13.83</td>\n",
       "            </tr>\n",
       "            <tr>\n",
       "                        <th id=\"T_dc8802fe_f20a_11e9_a058_e82aea674025level0_row3\" class=\"row_heading level0 row3\" >Iral74</th>\n",
       "                        <td id=\"T_dc8802fe_f20a_11e9_a058_e82aea674025row3_col0\" class=\"data row3 col0\" >4</td>\n",
       "                        <td id=\"T_dc8802fe_f20a_11e9_a058_e82aea674025row3_col1\" class=\"data row3 col1\" >$3.40</td>\n",
       "                        <td id=\"T_dc8802fe_f20a_11e9_a058_e82aea674025row3_col2\" class=\"data row3 col2\" >$13.62</td>\n",
       "            </tr>\n",
       "            <tr>\n",
       "                        <th id=\"T_dc8802fe_f20a_11e9_a058_e82aea674025level0_row4\" class=\"row_heading level0 row4\" >Iskadarya95</th>\n",
       "                        <td id=\"T_dc8802fe_f20a_11e9_a058_e82aea674025row4_col0\" class=\"data row4 col0\" >3</td>\n",
       "                        <td id=\"T_dc8802fe_f20a_11e9_a058_e82aea674025row4_col1\" class=\"data row4 col1\" >$4.37</td>\n",
       "                        <td id=\"T_dc8802fe_f20a_11e9_a058_e82aea674025row4_col2\" class=\"data row4 col2\" >$13.10</td>\n",
       "            </tr>\n",
       "    </tbody></table>"
      ],
      "text/plain": [
       "<pandas.io.formats.style.Styler at 0x1cfdb801e48>"
      ]
     },
     "execution_count": 66,
     "metadata": {},
     "output_type": "execute_result"
    }
   ],
   "source": [
    "\n",
    "# Group purchase data by screen names\n",
    "spender_stats = purchase_data_pd.groupby(\"SN\")\n",
    "\n",
    "# Total purchases by name\n",
    "purchase_count_spender = spender_stats[\"Purchase ID\"].count()\n",
    "\n",
    "# Average purchase by name \n",
    "avg_purchase_price_spender = spender_stats[\"Price\"].mean()\n",
    "\n",
    "# Calculate purchase total \n",
    "purchase_total_spender = spender_stats[\"Price\"].sum()\n",
    "\n",
    "# Create data frame with obtained values\n",
    "top_spenders = pd.DataFrame({\"Purchase Count\": purchase_count_spender,\n",
    "                             \"Average Purchase Price\": avg_purchase_price_spender,\n",
    "                             \"Total Purchase Value\":purchase_total_spender})\n",
    "\n",
    "# Sort in descending order to obtain top 5 spender names \n",
    "formatted_spenders = top_spenders.sort_values([\"Total Purchase Value\"], ascending=False).head()\n",
    "\n",
    "# Format with currency style\n",
    "formatted_spenders.style.format({\"Average Purchase Total\":\"${:,.2f}\",\n",
    "                                 \"Average Purchase Price\":\"${:,.2f}\", \n",
    "                                 \"Total Purchase Value\":\"${:,.2f}\"})"
   ]
  },
  {
   "cell_type": "markdown",
   "metadata": {},
   "source": [
    "# Most Popular Items\n",
    "\n",
    "#Top 5 most popular items by purchase count:\n",
    "\n",
    "#Item ID\n",
    "\n",
    "#Item Name\n",
    "\n",
    "#Purchase Count\n",
    "\n",
    "#Item Price\n",
    "\n",
    "#Total Purchase Value"
   ]
  },
  {
   "cell_type": "code",
   "execution_count": 67,
   "metadata": {},
   "outputs": [
    {
     "data": {
      "text/html": [
       "<style  type=\"text/css\" >\n",
       "</style><table id=\"T_dedf26c8_f20a_11e9_a5e2_e82aea674025\" ><thead>    <tr>        <th class=\"blank\" ></th>        <th class=\"blank level0\" ></th>        <th class=\"col_heading level0 col0\" >Purchase Count</th>        <th class=\"col_heading level0 col1\" >Item Price</th>        <th class=\"col_heading level0 col2\" >Total Purchase Value</th>    </tr>    <tr>        <th class=\"index_name level0\" >Item ID</th>        <th class=\"index_name level1\" >Item Name</th>        <th class=\"blank\" ></th>        <th class=\"blank\" ></th>        <th class=\"blank\" ></th>    </tr></thead><tbody>\n",
       "                <tr>\n",
       "                        <th id=\"T_dedf26c8_f20a_11e9_a5e2_e82aea674025level0_row0\" class=\"row_heading level0 row0\" >178</th>\n",
       "                        <th id=\"T_dedf26c8_f20a_11e9_a5e2_e82aea674025level1_row0\" class=\"row_heading level1 row0\" >Oathbreaker, Last Hope of the Breaking Storm</th>\n",
       "                        <td id=\"T_dedf26c8_f20a_11e9_a5e2_e82aea674025row0_col0\" class=\"data row0 col0\" >12</td>\n",
       "                        <td id=\"T_dedf26c8_f20a_11e9_a5e2_e82aea674025row0_col1\" class=\"data row0 col1\" >$4.23</td>\n",
       "                        <td id=\"T_dedf26c8_f20a_11e9_a5e2_e82aea674025row0_col2\" class=\"data row0 col2\" >$50.76</td>\n",
       "            </tr>\n",
       "            <tr>\n",
       "                        <th id=\"T_dedf26c8_f20a_11e9_a5e2_e82aea674025level0_row1\" class=\"row_heading level0 row1\" >145</th>\n",
       "                        <th id=\"T_dedf26c8_f20a_11e9_a5e2_e82aea674025level1_row1\" class=\"row_heading level1 row1\" >Fiery Glass Crusader</th>\n",
       "                        <td id=\"T_dedf26c8_f20a_11e9_a5e2_e82aea674025row1_col0\" class=\"data row1 col0\" >9</td>\n",
       "                        <td id=\"T_dedf26c8_f20a_11e9_a5e2_e82aea674025row1_col1\" class=\"data row1 col1\" >$4.58</td>\n",
       "                        <td id=\"T_dedf26c8_f20a_11e9_a5e2_e82aea674025row1_col2\" class=\"data row1 col2\" >$41.22</td>\n",
       "            </tr>\n",
       "            <tr>\n",
       "                        <th id=\"T_dedf26c8_f20a_11e9_a5e2_e82aea674025level0_row2\" class=\"row_heading level0 row2\" >108</th>\n",
       "                        <th id=\"T_dedf26c8_f20a_11e9_a5e2_e82aea674025level1_row2\" class=\"row_heading level1 row2\" >Extraction, Quickblade Of Trembling Hands</th>\n",
       "                        <td id=\"T_dedf26c8_f20a_11e9_a5e2_e82aea674025row2_col0\" class=\"data row2 col0\" >9</td>\n",
       "                        <td id=\"T_dedf26c8_f20a_11e9_a5e2_e82aea674025row2_col1\" class=\"data row2 col1\" >$3.53</td>\n",
       "                        <td id=\"T_dedf26c8_f20a_11e9_a5e2_e82aea674025row2_col2\" class=\"data row2 col2\" >$31.77</td>\n",
       "            </tr>\n",
       "            <tr>\n",
       "                        <th id=\"T_dedf26c8_f20a_11e9_a5e2_e82aea674025level0_row3\" class=\"row_heading level0 row3\" >82</th>\n",
       "                        <th id=\"T_dedf26c8_f20a_11e9_a5e2_e82aea674025level1_row3\" class=\"row_heading level1 row3\" >Nirvana</th>\n",
       "                        <td id=\"T_dedf26c8_f20a_11e9_a5e2_e82aea674025row3_col0\" class=\"data row3 col0\" >9</td>\n",
       "                        <td id=\"T_dedf26c8_f20a_11e9_a5e2_e82aea674025row3_col1\" class=\"data row3 col1\" >$4.90</td>\n",
       "                        <td id=\"T_dedf26c8_f20a_11e9_a5e2_e82aea674025row3_col2\" class=\"data row3 col2\" >$44.10</td>\n",
       "            </tr>\n",
       "            <tr>\n",
       "                        <th id=\"T_dedf26c8_f20a_11e9_a5e2_e82aea674025level0_row4\" class=\"row_heading level0 row4\" >19</th>\n",
       "                        <th id=\"T_dedf26c8_f20a_11e9_a5e2_e82aea674025level1_row4\" class=\"row_heading level1 row4\" >Pursuit, Cudgel of Necromancy</th>\n",
       "                        <td id=\"T_dedf26c8_f20a_11e9_a5e2_e82aea674025row4_col0\" class=\"data row4 col0\" >8</td>\n",
       "                        <td id=\"T_dedf26c8_f20a_11e9_a5e2_e82aea674025row4_col1\" class=\"data row4 col1\" >$1.02</td>\n",
       "                        <td id=\"T_dedf26c8_f20a_11e9_a5e2_e82aea674025row4_col2\" class=\"data row4 col2\" >$8.16</td>\n",
       "            </tr>\n",
       "    </tbody></table>"
      ],
      "text/plain": [
       "<pandas.io.formats.style.Styler at 0x1cfdb891278>"
      ]
     },
     "execution_count": 67,
     "metadata": {},
     "output_type": "execute_result"
    }
   ],
   "source": [
    "# Create new data frame with items\n",
    "items = purchase_data_pd[[\"Item ID\", \"Item Name\", \"Price\"]]\n",
    "\n",
    "# Group item id and item name \n",
    "item_stats = items.groupby([\"Item ID\",\"Item Name\"])\n",
    "\n",
    "# Number of times an item has been purchased \n",
    "purchase_count_item = item_stats[\"Price\"].count()\n",
    "\n",
    "# The purchase value per item \n",
    "purchase_value = (item_stats[\"Price\"].sum()) \n",
    "\n",
    "# Find individual item price\n",
    "item_price = purchase_value/purchase_count_item\n",
    "\n",
    "# Create data frame with obtained values\n",
    "most_popular_items = pd.DataFrame({\"Purchase Count\": purchase_count_item, \n",
    "                                   \"Item Price\": item_price,\n",
    "                                   \"Total Purchase Value\":purchase_value})\n",
    "\n",
    "# Top spender names and provide top 5 item names\n",
    "popular_items = most_popular_items.sort_values([\"Purchase Count\"], ascending=False).head()\n",
    "\n",
    "# Format with currency style\n",
    "popular_items.style.format({\"Item Price\":\"${:,.2f}\",\n",
    "                                \"Total Purchase Value\":\"${:,.2f}\"})"
   ]
  },
  {
   "cell_type": "markdown",
   "metadata": {},
   "source": [
    "# Most Profitable Items\n",
    "\n",
    "#Top 5 most profitable items by total purchase value:\n",
    "\n",
    "#Item ID\n",
    "\n",
    "#Item Name\n",
    "\n",
    "#Purchase Count\n",
    "\n",
    "#Item Price\n",
    "\n",
    "#Total Purchase Value"
   ]
  },
  {
   "cell_type": "code",
   "execution_count": 68,
   "metadata": {},
   "outputs": [
    {
     "data": {
      "text/html": [
       "<style  type=\"text/css\" >\n",
       "</style><table id=\"T_e191aefa_f20a_11e9_bdea_e82aea674025\" ><thead>    <tr>        <th class=\"blank\" ></th>        <th class=\"blank level0\" ></th>        <th class=\"col_heading level0 col0\" >Purchase Count</th>        <th class=\"col_heading level0 col1\" >Item Price</th>        <th class=\"col_heading level0 col2\" >Total Purchase Value</th>    </tr>    <tr>        <th class=\"index_name level0\" >Item ID</th>        <th class=\"index_name level1\" >Item Name</th>        <th class=\"blank\" ></th>        <th class=\"blank\" ></th>        <th class=\"blank\" ></th>    </tr></thead><tbody>\n",
       "                <tr>\n",
       "                        <th id=\"T_e191aefa_f20a_11e9_bdea_e82aea674025level0_row0\" class=\"row_heading level0 row0\" >178</th>\n",
       "                        <th id=\"T_e191aefa_f20a_11e9_bdea_e82aea674025level1_row0\" class=\"row_heading level1 row0\" >Oathbreaker, Last Hope of the Breaking Storm</th>\n",
       "                        <td id=\"T_e191aefa_f20a_11e9_bdea_e82aea674025row0_col0\" class=\"data row0 col0\" >12</td>\n",
       "                        <td id=\"T_e191aefa_f20a_11e9_bdea_e82aea674025row0_col1\" class=\"data row0 col1\" >$4.23</td>\n",
       "                        <td id=\"T_e191aefa_f20a_11e9_bdea_e82aea674025row0_col2\" class=\"data row0 col2\" >$50.76</td>\n",
       "            </tr>\n",
       "            <tr>\n",
       "                        <th id=\"T_e191aefa_f20a_11e9_bdea_e82aea674025level0_row1\" class=\"row_heading level0 row1\" >82</th>\n",
       "                        <th id=\"T_e191aefa_f20a_11e9_bdea_e82aea674025level1_row1\" class=\"row_heading level1 row1\" >Nirvana</th>\n",
       "                        <td id=\"T_e191aefa_f20a_11e9_bdea_e82aea674025row1_col0\" class=\"data row1 col0\" >9</td>\n",
       "                        <td id=\"T_e191aefa_f20a_11e9_bdea_e82aea674025row1_col1\" class=\"data row1 col1\" >$4.90</td>\n",
       "                        <td id=\"T_e191aefa_f20a_11e9_bdea_e82aea674025row1_col2\" class=\"data row1 col2\" >$44.10</td>\n",
       "            </tr>\n",
       "            <tr>\n",
       "                        <th id=\"T_e191aefa_f20a_11e9_bdea_e82aea674025level0_row2\" class=\"row_heading level0 row2\" >145</th>\n",
       "                        <th id=\"T_e191aefa_f20a_11e9_bdea_e82aea674025level1_row2\" class=\"row_heading level1 row2\" >Fiery Glass Crusader</th>\n",
       "                        <td id=\"T_e191aefa_f20a_11e9_bdea_e82aea674025row2_col0\" class=\"data row2 col0\" >9</td>\n",
       "                        <td id=\"T_e191aefa_f20a_11e9_bdea_e82aea674025row2_col1\" class=\"data row2 col1\" >$4.58</td>\n",
       "                        <td id=\"T_e191aefa_f20a_11e9_bdea_e82aea674025row2_col2\" class=\"data row2 col2\" >$41.22</td>\n",
       "            </tr>\n",
       "            <tr>\n",
       "                        <th id=\"T_e191aefa_f20a_11e9_bdea_e82aea674025level0_row3\" class=\"row_heading level0 row3\" >92</th>\n",
       "                        <th id=\"T_e191aefa_f20a_11e9_bdea_e82aea674025level1_row3\" class=\"row_heading level1 row3\" >Final Critic</th>\n",
       "                        <td id=\"T_e191aefa_f20a_11e9_bdea_e82aea674025row3_col0\" class=\"data row3 col0\" >8</td>\n",
       "                        <td id=\"T_e191aefa_f20a_11e9_bdea_e82aea674025row3_col1\" class=\"data row3 col1\" >$4.88</td>\n",
       "                        <td id=\"T_e191aefa_f20a_11e9_bdea_e82aea674025row3_col2\" class=\"data row3 col2\" >$39.04</td>\n",
       "            </tr>\n",
       "            <tr>\n",
       "                        <th id=\"T_e191aefa_f20a_11e9_bdea_e82aea674025level0_row4\" class=\"row_heading level0 row4\" >103</th>\n",
       "                        <th id=\"T_e191aefa_f20a_11e9_bdea_e82aea674025level1_row4\" class=\"row_heading level1 row4\" >Singed Scalpel</th>\n",
       "                        <td id=\"T_e191aefa_f20a_11e9_bdea_e82aea674025row4_col0\" class=\"data row4 col0\" >8</td>\n",
       "                        <td id=\"T_e191aefa_f20a_11e9_bdea_e82aea674025row4_col1\" class=\"data row4 col1\" >$4.35</td>\n",
       "                        <td id=\"T_e191aefa_f20a_11e9_bdea_e82aea674025row4_col2\" class=\"data row4 col2\" >$34.80</td>\n",
       "            </tr>\n",
       "    </tbody></table>"
      ],
      "text/plain": [
       "<pandas.io.formats.style.Styler at 0x1cfdb860898>"
      ]
     },
     "execution_count": 68,
     "metadata": {},
     "output_type": "execute_result"
    }
   ],
   "source": [
    "# Take the popular items and change the sorting to find highest total purchase value\n",
    "popular_items = most_popular_items.sort_values([\"Total Purchase Value\"],\n",
    "                                                   ascending=False).head()\n",
    "# Format with currency style\n",
    "popular_items.style.format({\"Item Price\":\"${:,.2f}\",\n",
    "                                \"Total Purchase Value\":\"${:,.2f}\"})"
   ]
  }
 ],
 "metadata": {
  "celltoolbar": "Edit Metadata",
  "kernelspec": {
   "display_name": "Python 3",
   "language": "python",
   "name": "python3"
  },
  "language_info": {
   "codemirror_mode": {
    "name": "ipython",
    "version": 3
   },
   "file_extension": ".py",
   "mimetype": "text/x-python",
   "name": "python",
   "nbconvert_exporter": "python",
   "pygments_lexer": "ipython3",
   "version": "3.7.3"
  }
 },
 "nbformat": 4,
 "nbformat_minor": 2
}
