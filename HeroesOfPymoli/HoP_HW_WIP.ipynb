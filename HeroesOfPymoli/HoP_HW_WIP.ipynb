{
 "metadata": {
  "language_info": {
   "codemirror_mode": {
    "name": "ipython",
    "version": 3
   },
   "file_extension": ".py",
   "mimetype": "text/x-python",
   "name": "python",
   "nbconvert_exporter": "python",
   "pygments_lexer": "ipython3",
   "version": "3.8.3-final"
  },
  "orig_nbformat": 2,
  "kernelspec": {
   "name": "Python 3.8.3 64-bit ('base': conda)",
   "display_name": "Python 3.8.3 64-bit ('base': conda)",
   "metadata": {
    "interpreter": {
     "hash": "952d6e7f9bddcc917cbce180bf4770c7a12996eb49efe3055467a128fdb460f1"
    }
   }
  }
 },
 "nbformat": 4,
 "nbformat_minor": 2,
 "cells": [
  {
   "source": [
    "# HEROES OF PYMOLI - Demographic and Financial Data Analysis"
   ],
   "cell_type": "markdown",
   "metadata": {}
  },
  {
   "source": [
    "## SUMMARY OBSERVATIONS"
   ],
   "cell_type": "markdown",
   "metadata": {}
  },
  {
   "source": [
    "### There are a few noteworthy points that can be derived from this analysis that could direct opportunities for improvement for the game company\n",
    "\n",
    "###   1. Players that purchased a game items, on average, only purchased one item (1.3).  Increasing the appeal of the game items, their value proposition, and the marketing messaging to players are potential opportunities\n",
    "###   2. Purchases by gender category align exactly with the number of total players by those categories indicating that the appeal of the items is gender agnostic\n",
    "###   3. Almost half of the total purchases (47%) are made by players between the ages of 20-24 years old.  Futhermore, over 3/4ths (77%) of the total purchases are made by players between the ages of 15-29 years old.    \n",
    "###   4. The popularity of purchased items is mostly evenly distributed. Although the two most popular items  are statistically skewed in popularaity of purchases with 44% and 33% higher number of purchases than the number 3 most popular item, because of the small number of purchases of each item they only represnt 3.2% of total purchases. This seems to indicate that there are not items that are out of line in terms of their value in the game which can valuable for player satisfaction with the game and items for sale in general "
   ],
   "cell_type": "markdown",
   "metadata": {}
  },
  {
   "cell_type": "code",
   "execution_count": 3,
   "metadata": {},
   "outputs": [],
   "source": [
    "# Load pandas module\n",
    "import pandas as pd "
   ]
  },
  {
   "cell_type": "code",
   "execution_count": 4,
   "metadata": {},
   "outputs": [],
   "source": [
    "# Create a new dataframe from the imported csv data\n",
    "datafile=\"Resources/purchase_data.csv\"\n",
    "purchdf=pd.read_csv(datafile)\n"
   ]
  },
  {
   "cell_type": "code",
   "execution_count": 5,
   "metadata": {},
   "outputs": [
    {
     "output_type": "execute_result",
     "data": {
      "text/plain": "   Purchase ID             SN  Age Gender  Item ID  \\\n0            0        Lisim78   20   Male      108   \n1            1    Lisovynya38   40   Male      143   \n2            2     Ithergue48   24   Male       92   \n3            3  Chamassasya86   24   Male      100   \n4            4      Iskosia90   23   Male      131   \n\n                                   Item Name  Price  \n0  Extraction, Quickblade Of Trembling Hands   3.53  \n1                          Frenzied Scimitar   1.56  \n2                               Final Critic   4.88  \n3                                Blindscythe   3.27  \n4                                       Fury   1.44  ",
      "text/html": "<div>\n<style scoped>\n    .dataframe tbody tr th:only-of-type {\n        vertical-align: middle;\n    }\n\n    .dataframe tbody tr th {\n        vertical-align: top;\n    }\n\n    .dataframe thead th {\n        text-align: right;\n    }\n</style>\n<table border=\"1\" class=\"dataframe\">\n  <thead>\n    <tr style=\"text-align: right;\">\n      <th></th>\n      <th>Purchase ID</th>\n      <th>SN</th>\n      <th>Age</th>\n      <th>Gender</th>\n      <th>Item ID</th>\n      <th>Item Name</th>\n      <th>Price</th>\n    </tr>\n  </thead>\n  <tbody>\n    <tr>\n      <th>0</th>\n      <td>0</td>\n      <td>Lisim78</td>\n      <td>20</td>\n      <td>Male</td>\n      <td>108</td>\n      <td>Extraction, Quickblade Of Trembling Hands</td>\n      <td>3.53</td>\n    </tr>\n    <tr>\n      <th>1</th>\n      <td>1</td>\n      <td>Lisovynya38</td>\n      <td>40</td>\n      <td>Male</td>\n      <td>143</td>\n      <td>Frenzied Scimitar</td>\n      <td>1.56</td>\n    </tr>\n    <tr>\n      <th>2</th>\n      <td>2</td>\n      <td>Ithergue48</td>\n      <td>24</td>\n      <td>Male</td>\n      <td>92</td>\n      <td>Final Critic</td>\n      <td>4.88</td>\n    </tr>\n    <tr>\n      <th>3</th>\n      <td>3</td>\n      <td>Chamassasya86</td>\n      <td>24</td>\n      <td>Male</td>\n      <td>100</td>\n      <td>Blindscythe</td>\n      <td>3.27</td>\n    </tr>\n    <tr>\n      <th>4</th>\n      <td>4</td>\n      <td>Iskosia90</td>\n      <td>23</td>\n      <td>Male</td>\n      <td>131</td>\n      <td>Fury</td>\n      <td>1.44</td>\n    </tr>\n  </tbody>\n</table>\n</div>"
     },
     "metadata": {},
     "execution_count": 5
    }
   ],
   "source": [
    "# Output the head of the new dataframe to see the data and headers\n",
    "purchdf.head()"
   ]
  },
  {
   "cell_type": "code",
   "execution_count": 6,
   "metadata": {},
   "outputs": [
    {
     "output_type": "execute_result",
     "data": {
      "text/plain": "     Purchase ID          SN  Age  Gender  Item ID  \\\n775          775  Aethedru70   21  Female       60   \n776          776      Iral74   21    Male      164   \n777          777  Yathecal72   20    Male       67   \n778          778     Sisur91    7    Male       92   \n779          779   Ennrian78   24    Male       50   \n\n                                 Item Name  Price  \n775                                   Wolf   3.54  \n776                       Exiled Doomblade   1.63  \n777  Celeste, Incarnation of the Corrupted   3.46  \n778                           Final Critic   4.19  \n779                                   Dawn   4.60  ",
      "text/html": "<div>\n<style scoped>\n    .dataframe tbody tr th:only-of-type {\n        vertical-align: middle;\n    }\n\n    .dataframe tbody tr th {\n        vertical-align: top;\n    }\n\n    .dataframe thead th {\n        text-align: right;\n    }\n</style>\n<table border=\"1\" class=\"dataframe\">\n  <thead>\n    <tr style=\"text-align: right;\">\n      <th></th>\n      <th>Purchase ID</th>\n      <th>SN</th>\n      <th>Age</th>\n      <th>Gender</th>\n      <th>Item ID</th>\n      <th>Item Name</th>\n      <th>Price</th>\n    </tr>\n  </thead>\n  <tbody>\n    <tr>\n      <th>775</th>\n      <td>775</td>\n      <td>Aethedru70</td>\n      <td>21</td>\n      <td>Female</td>\n      <td>60</td>\n      <td>Wolf</td>\n      <td>3.54</td>\n    </tr>\n    <tr>\n      <th>776</th>\n      <td>776</td>\n      <td>Iral74</td>\n      <td>21</td>\n      <td>Male</td>\n      <td>164</td>\n      <td>Exiled Doomblade</td>\n      <td>1.63</td>\n    </tr>\n    <tr>\n      <th>777</th>\n      <td>777</td>\n      <td>Yathecal72</td>\n      <td>20</td>\n      <td>Male</td>\n      <td>67</td>\n      <td>Celeste, Incarnation of the Corrupted</td>\n      <td>3.46</td>\n    </tr>\n    <tr>\n      <th>778</th>\n      <td>778</td>\n      <td>Sisur91</td>\n      <td>7</td>\n      <td>Male</td>\n      <td>92</td>\n      <td>Final Critic</td>\n      <td>4.19</td>\n    </tr>\n    <tr>\n      <th>779</th>\n      <td>779</td>\n      <td>Ennrian78</td>\n      <td>24</td>\n      <td>Male</td>\n      <td>50</td>\n      <td>Dawn</td>\n      <td>4.60</td>\n    </tr>\n  </tbody>\n</table>\n</div>"
     },
     "metadata": {},
     "execution_count": 6
    }
   ],
   "source": [
    "# Output the tail of the dataframe to ensure that all imported appropriately\n",
    "purchdf.tail()"
   ]
  },
  {
   "source": [
    "## PLAYER COUNT"
   ],
   "cell_type": "markdown",
   "metadata": {}
  },
  {
   "cell_type": "code",
   "execution_count": 7,
   "metadata": {
    "tags": []
   },
   "outputs": [
    {
     "output_type": "stream",
     "name": "stdout",
     "text": "Total Number of Players is: 576\n"
    }
   ],
   "source": [
    "# Create a variable that holds the number of unique SNs in the data representing the number of unique players\n",
    "tot_num_plyrs=purchdf[\"SN\"].nunique()\n",
    "\n",
    "# Output the required result to the terminal/console\n",
    "print(f\"Total Number of Players is: {tot_num_plyrs}\")"
   ]
  },
  {
   "source": [
    "## PURCHASING ANALYSIS"
   ],
   "cell_type": "markdown",
   "metadata": {}
  },
  {
   "cell_type": "code",
   "execution_count": 8,
   "metadata": {
    "tags": []
   },
   "outputs": [
    {
     "output_type": "stream",
     "name": "stdout",
     "text": "Total Number of Unique Items is: 179\n"
    }
   ],
   "source": [
    "# Create a variable that holds the number of unique items purchased in the game\n",
    "tot_uniq_items=purchdf[\"Item ID\"].nunique()\n",
    "\n",
    "# Output required results to the console/terminal\n",
    "print(f\"Total Number of Unique Items is: {tot_uniq_items}\")"
   ]
  },
  {
   "cell_type": "code",
   "execution_count": 9,
   "metadata": {
    "tags": []
   },
   "outputs": [
    {
     "output_type": "stream",
     "name": "stdout",
     "text": "The Average Purchase Price is:$ 3.05\n"
    }
   ],
   "source": [
    "# Compute and store in a variable the average purchase price\n",
    "ave_purch_price=purchdf[\"Price\"].mean()\n",
    "# Variable for rounded average purchase price to make the number 2 significant digits for currency\n",
    "r_ave_purch_price=round(ave_purch_price, 2)\n",
    "\n",
    "# Output the required result to the console/terminal\n",
    "print(f\"The Average Purchase Price is:$ {r_ave_purch_price}\")"
   ]
  },
  {
   "cell_type": "code",
   "execution_count": 10,
   "metadata": {
    "tags": []
   },
   "outputs": [
    {
     "output_type": "stream",
     "name": "stdout",
     "text": "The Total Number of Purchases is: 780\n"
    }
   ],
   "source": [
    "# Compute and store in a variable the number of purchases\n",
    "tot_num_purch=purchdf[\"Purchase ID\"].count()\n",
    "\n",
    "# Output the required result to the terminal/console\n",
    "print(f\"The Total Number of Purchases is: {tot_num_purch}\")"
   ]
  },
  {
   "cell_type": "code",
   "execution_count": 11,
   "metadata": {
    "tags": []
   },
   "outputs": [
    {
     "output_type": "stream",
     "name": "stdout",
     "text": "The Total Revenue from Purchases is:$ 2379.77\n"
    }
   ],
   "source": [
    "# Compute and store in a variable the amount of revenue from purchases\n",
    "tot_rev=purchdf[\"Price\"].sum()\n",
    "\n",
    "# Output the required result to the terminal /console\n",
    "print(f\"The Total Revenue from Purchases is:$ {tot_rev}\")"
   ]
  },
  {
   "source": [
    "## GENDER DEMOGRAPHICS"
   ],
   "cell_type": "markdown",
   "metadata": {}
  },
  {
   "cell_type": "code",
   "execution_count": 12,
   "metadata": {
    "tags": []
   },
   "outputs": [
    {
     "output_type": "stream",
     "name": "stdout",
     "text": "The Count of Male Players is 484 which is 84.03 percent of the total number of players\nThe Count of Female Players is 81 which is 14.06 percent of the total number of players\nThe Count of Other / Non-Disclosed Players is 11 which is 1.91 percent of the total number of players\n"
    }
   ],
   "source": [
    "# The following three blocks of code:\n",
    "#   Filter the dataframe on Gender category\n",
    "#   Take the filtered data and grfoup it based on the number of unique players of that gender category\n",
    "#   Compute and store in a variable the count of the unique players by gender category\n",
    "\n",
    "m_frame=purchdf.loc[purchdf[\"Gender\"]==\"Male\",:]\n",
    "male_frame=m_frame.groupby([\"SN\"]).nunique()\n",
    "m_count=male_frame[\"SN\"].count()\n",
    "\n",
    "f_frame=purchdf.loc[purchdf[\"Gender\"]==\"Female\",:]\n",
    "female_frame=f_frame.groupby([\"SN\"]).nunique()\n",
    "f_count=female_frame[\"SN\"].count()\n",
    "\n",
    "o_frame=purchdf.loc[purchdf[\"Gender\"]==\"Other / Non-Disclosed\",:]\n",
    "other_frame=o_frame.groupby([\"SN\"]).nunique()\n",
    "o_count=other_frame[\"SN\"].count()\n",
    "\n",
    "\n",
    "# Block to Compute ansd store in variables the percentage of players in each gender category \n",
    "m_perc=round((m_count/tot_num_plyrs)*100,2)\n",
    "f_perc=round((f_count/tot_num_plyrs)*100,2)\n",
    "o_perc=round((o_count/tot_num_plyrs)*100,2)\n",
    "\n",
    "# Block to output the required results to the console/terminal (Instructions do not call for table output)\n",
    "print(f\"The Count of Male Players is {m_count} which is {m_perc} percent of the total number of players\")\n",
    "print(f\"The Count of Female Players is {f_count} which is {f_perc} percent of the total number of players\")\n",
    "print(f\"The Count of Other / Non-Disclosed Players is {o_count} which is {o_perc} percent of the total number of players\")"
   ]
  },
  {
   "source": [
    "## PURCHASING ANALYSIS (GENDER)"
   ],
   "cell_type": "markdown",
   "metadata": {}
  },
  {
   "cell_type": "code",
   "execution_count": 13,
   "metadata": {
    "tags": []
   },
   "outputs": [
    {
     "output_type": "stream",
     "name": "stdout",
     "text": "The Number of Purchases by Male Players is 652\nThe Number of Purchases by Female Players is 113\nThe Number of Purchases by Other / Non-Disclosed Players is 15\n"
    }
   ],
   "source": [
    "# Create a table that is grouped and indexed by Gender category and contains the count of purchases for that category\n",
    "g_purch_count=purchdf.groupby([\"Gender\"])[\"Purchase ID\"].count()\n",
    "\n",
    "# Store the values in the table list of counts of purchases by gender category to variables for each category\n",
    "m_purch_count=g_purch_count.values[1]\n",
    "f_purch_count=g_purch_count.values[0]\n",
    "o_purch_count=g_purch_count.values[2]\n",
    "\n",
    "# Block to output the required result to the terminal /console (Instructions do not call for table output)\n",
    "print(f\"The Number of Purchases by Male Players is {m_purch_count}\")\n",
    "print(f\"The Number of Purchases by Female Players is {f_purch_count}\")\n",
    "print(f\"The Number of Purchases by Other / Non-Disclosed Players is {o_purch_count}\")"
   ]
  },
  {
   "cell_type": "code",
   "execution_count": 14,
   "metadata": {
    "tags": []
   },
   "outputs": [
    {
     "output_type": "stream",
     "name": "stdout",
     "text": "The Average Purchase Price for Male Players is $ 3.02\nThe Average Purchase Price for Female Players is $ 3.2\nThe Average Purchase Price for Other / Non-Disclosed Players is $ 3.35\n"
    }
   ],
   "source": [
    "# Create a table that is grouped and indexed by Gender category and contains the average price paid for purchases by that gender category\n",
    "g_ave_purch_price=purchdf.groupby([\"Gender\"])[\"Price\"].mean()\n",
    "\n",
    "# Store the values in the table list of average purchase prices by gender category to variables for each category\n",
    "m_ave_purch_price=round(g_ave_purch_price.values[1],2)\n",
    "f_ave_purch_price=round(g_ave_purch_price.values[0],2)\n",
    "o_ave_purch_price=round(g_ave_purch_price.values[2],2)\n",
    "\n",
    "# Block to output the required result to the terminal /console (Instructions do not call for table output)\n",
    "print(f\"The Average Purchase Price for Male Players is $ {m_ave_purch_price}\")\n",
    "print(f\"The Average Purchase Price for Female Players is $ {f_ave_purch_price}\")\n",
    "print(f\"The Average Purchase Price for Other / Non-Disclosed Players is $ {o_ave_purch_price}\")"
   ]
  },
  {
   "cell_type": "code",
   "execution_count": 15,
   "metadata": {
    "tags": []
   },
   "outputs": [
    {
     "output_type": "stream",
     "name": "stdout",
     "text": "The Total Value of Purchases by Male Players is $ 1967.64\nThe Total Value of Purchases by Female Players is $ 361.94\nThe Total Value of Purchases by Other / Non-Disclosed Players is $ 50.19\n"
    }
   ],
   "source": [
    "# Create a table that is grouped and indexed by Gender category and contains the total amount paid for purchases by that gender category\n",
    "g_tot_val=purchdf.groupby([\"Gender\"])[\"Price\"].sum()\n",
    "\n",
    "# Store the values in the table list of total value of purchases by gender category to variables for each category\n",
    "m_tot_val=round(g_tot_val.values[1],2)\n",
    "f_tot_val=round(g_tot_val.values[0],2)\n",
    "o_tot_val=round(g_tot_val.values[2],2)\n",
    "\n",
    "# Block to output the required result to the terminal /console (Instructions do not call for table output)\n",
    "print(f\"The Total Value of Purchases by Male Players is $ {m_tot_val}\")\n",
    "print(f\"The Total Value of Purchases by Female Players is $ {f_tot_val}\")\n",
    "print(f\"The Total Value of Purchases by Other / Non-Disclosed Players is $ {o_tot_val}\")"
   ]
  },
  {
   "cell_type": "code",
   "execution_count": 16,
   "metadata": {
    "tags": []
   },
   "outputs": [
    {
     "output_type": "stream",
     "name": "stdout",
     "text": "The Average Purchase Total per Male Player is $ 4.07\nThe Average Purchase Total per Female Player is $ 4.47\nThe Average Purchase Total per Other / Non-Disclosed Player is $ 4.56\n"
    }
   ],
   "source": [
    "# Block to compute the average purchase total by each player by gender category and store those values into variables \n",
    "m_avepurch_cap=round(m_tot_val/m_count,2)\n",
    "f_avepurch_cap=round(f_tot_val/f_count,2)\n",
    "o_avepurch_cap=round(o_tot_val/o_count,2)\n",
    "\n",
    "# Block to output the required result to the terminal /console (Instructions do not call for table output)\n",
    "print(f\"The Average Purchase Total per Male Player is $ {m_avepurch_cap}\")\n",
    "print(f\"The Average Purchase Total per Female Player is $ {f_avepurch_cap}\")\n",
    "print(f\"The Average Purchase Total per Other / Non-Disclosed Player is $ {o_avepurch_cap}\")"
   ]
  },
  {
   "source": [
    "## AGE DEMOGRAPHICS\n"
   ],
   "cell_type": "markdown",
   "metadata": {}
  },
  {
   "cell_type": "code",
   "execution_count": 17,
   "metadata": {
    "tags": []
   },
   "outputs": [
    {
     "output_type": "stream",
     "name": "stdout",
     "text": "The Total Number of Purchases by Players Under 10 Years Old is 23\nThe Total Number of Purchases by Players 10 to 14 Years Old is 28\nThe Total Number of Purchases by Players 15 to 19 Years Old is 136\nThe Total Number of Purchases by Players 20 to 24 Years Old is 365\nThe Total Number of Purchases by Players 25 to 29 Years Old is 101\nThe Total Number of Purchases by Players 30 to 34 Years Old is 73\nThe Total Number of Purchases by Players 35 to 39 Years Old is 41\nThe Total Number of Purchases by Players 40 to 44 Years Old is 12\nThe Total Number of Purchases by Players 45 to 49 Years Old is 1\n"
    }
   ],
   "source": [
    "# Create a variable which holds the list of bins for age groups of the data\n",
    "age_bins=[0,9,14,19,24,29,34,39,44,49]\n",
    "\n",
    "# Create a variable which holds the list of label names for the age groups\n",
    "age_groups=[\"BelowTen\", \"EarlyTeens\", \"LateTeens\", \"EarlyTwenties\", \"LateTwenties\", \"EarlyThirties\", \"LateThirties\", \"EarlyForties\", \"LateForties\"]\n",
    "\n",
    "# Create a copy of the current data frame to use for this analysis\n",
    "purchdf_copy=purchdf.copy()\n",
    "\n",
    "# Use the Pandas pd.cut function to create a new column in the dataframe that contains the age data categorized into the age groups\n",
    "purchdf_copy[\"Age Group\"]=pd.cut(purchdf_copy[\"Age\"], age_bins, labels=age_groups, include_lowest=True)\n",
    "\n",
    "# Create a table from the dataframe that is grouped and indexed by the created age group column and contains a count of total purchases for that category\n",
    "age_purchcount=purchdf_copy.groupby([\"Age Group\"])[\"Purchase ID\"].count()\n",
    "\n",
    "# Block to store the values from the table for count of total purchases by age category into variables for each category\n",
    "bten_purch=age_purchcount[0]\n",
    "eteen_purch=age_purchcount[1]\n",
    "lteen_purch=age_purchcount[2]\n",
    "etwent_purch=age_purchcount[3]\n",
    "ltwent_purch=age_purchcount[4]\n",
    "ethirt_purch=age_purchcount[5]\n",
    "lthirt_purch=age_purchcount[6]\n",
    "efort_purch=age_purchcount[7]\n",
    "lfort_purch=age_purchcount[8]\n",
    "\n",
    "# Block to output the required result to the terminal /console (Instructions do not call for table output)\n",
    "print(f\"The Total Number of Purchases by Players Under 10 Years Old is {bten_purch}\")\n",
    "print(f\"The Total Number of Purchases by Players 10 to 14 Years Old is {eteen_purch}\")\n",
    "print(f\"The Total Number of Purchases by Players 15 to 19 Years Old is {lteen_purch}\")\n",
    "print(f\"The Total Number of Purchases by Players 20 to 24 Years Old is {etwent_purch}\")\n",
    "print(f\"The Total Number of Purchases by Players 25 to 29 Years Old is {ltwent_purch}\")\n",
    "print(f\"The Total Number of Purchases by Players 30 to 34 Years Old is {ethirt_purch}\")\n",
    "print(f\"The Total Number of Purchases by Players 35 to 39 Years Old is {lthirt_purch}\")\n",
    "print(f\"The Total Number of Purchases by Players 40 to 44 Years Old is {efort_purch}\")\n",
    "print(f\"The Total Number of Purchases by Players 45 to 49 Years Old is {lfort_purch}\")"
   ]
  },
  {
   "cell_type": "code",
   "execution_count": 18,
   "metadata": {
    "tags": []
   },
   "outputs": [
    {
     "output_type": "stream",
     "name": "stdout",
     "text": "The Average Purchase Price for Players Under 10 Years Old is $3.35\nThe Average Purchase Price for Players 10 to 14 Years Old is $2.96\nThe Average Purchase Price for Players 15 to 19 Years Old is $3.04\nThe Average Purchase Price for Players 20 to 24 Years Old is $3.05\nThe Average Purchase Price for Players 25 to 29 Years Old is $2.9\nThe Average Purchase Price for Players 30 to 34 Years Old is $2.93\nThe Average Purchase Price for Players 35 to 39 Years Old is $3.6\nThe Average Purchase Price for Players 40 to 44 Years Old is $3.04\nThe Average Purchase Price for Players 45 to 49 Years Old is $1.7\n"
    }
   ],
   "source": [
    "# Create a table from the dataframe that is grouped and indexed by the created age group column and contains the average price paid for purchases for that category\n",
    "age_avepurch=purchdf_copy.groupby([\"Age Group\"])[\"Price\"].mean()\n",
    "\n",
    "# Block to store the values from the table for average price paid for purchases by age category into variables for each category\n",
    "bten_avpr=round(age_avepurch[0],2)\n",
    "eteen_avpr=round(age_avepurch[1],2)\n",
    "lteen_avpr=round(age_avepurch[2],2)\n",
    "etwent_avpr=round(age_avepurch[3],2)\n",
    "ltwent_avpr=round(age_avepurch[4],2)\n",
    "ethirt_avpr=round(age_avepurch[5],2)\n",
    "lthirt_avpr=round(age_avepurch[6],2)\n",
    "efort_avpr=round(age_avepurch[7],2)\n",
    "lfort_avpr=round(age_avepurch[8],2)\n",
    "\n",
    "# Block to output the required result to the terminal /console (Instructions do not call for table output)\n",
    "print(f\"The Average Purchase Price for Players Under 10 Years Old is ${bten_avpr}\")\n",
    "print(f\"The Average Purchase Price for Players 10 to 14 Years Old is ${eteen_avpr}\")\n",
    "print(f\"The Average Purchase Price for Players 15 to 19 Years Old is ${lteen_avpr}\")\n",
    "print(f\"The Average Purchase Price for Players 20 to 24 Years Old is ${etwent_avpr}\")\n",
    "print(f\"The Average Purchase Price for Players 25 to 29 Years Old is ${ltwent_avpr}\")\n",
    "print(f\"The Average Purchase Price for Players 30 to 34 Years Old is ${ethirt_avpr}\")\n",
    "print(f\"The Average Purchase Price for Players 35 to 39 Years Old is ${lthirt_avpr}\")\n",
    "print(f\"The Average Purchase Price for Players 40 to 44 Years Old is ${efort_avpr}\")\n",
    "print(f\"The Average Purchase Price for Players 45 to 49 Years Old is ${lfort_avpr}\")"
   ]
  },
  {
   "cell_type": "code",
   "execution_count": 19,
   "metadata": {
    "tags": []
   },
   "outputs": [
    {
     "output_type": "stream",
     "name": "stdout",
     "text": "The Total Purchase Value for Players Under 10 Years Old is $77.13\nThe Total Purchase Value for Players 10 to 14 Years Old is $82.78\nThe Total Purchase Value for Players 15 to 19 Years Old is $412.89\nThe Total Purchase Value for Players 20 to 24 Years Old is $1114.06\nThe Total Purchase Value for Players 25 to 29 Years Old is $293.0\nThe Total Purchase Value for Players 30 to 34 Years Old is $214.0\nThe Total Purchase Value for Players 35 to 39 Years Old is $147.67\nThe Total Purchase Value for Players 40 to 44 Years Old is $36.54\nThe Total Purchase Value for Players 45 to 49 Years Old is $1.7\n"
    }
   ],
   "source": [
    "# Create a table from the dataframe that is grouped and indexed by the created age group column and contains the total amount paid for purchases for that category\n",
    "age_totpurch=purchdf_copy.groupby([\"Age Group\"])[\"Price\"].sum()\n",
    "\n",
    "# Block to store the values from the table for total amount paid for purchases by age category into variables for each category\n",
    "bten_tpr=round(age_totpurch[0],2)\n",
    "eteen_tpr=round(age_totpurch[1],2)\n",
    "lteen_tpr=round(age_totpurch[2],2)\n",
    "etwent_tpr=round(age_totpurch[3],2)\n",
    "ltwent_tpr=round(age_totpurch[4],2)\n",
    "ethirt_tpr=round(age_totpurch[5],2)\n",
    "lthirt_tpr=round(age_totpurch[6],2)\n",
    "efort_tpr=round(age_totpurch[7],2)\n",
    "lfort_tpr=round(age_totpurch[8],2)\n",
    "\n",
    "# Block to output the required result to the terminal /console (Instructions do not call for table output)\n",
    "print(f\"The Total Purchase Value for Players Under 10 Years Old is ${bten_tpr}\")\n",
    "print(f\"The Total Purchase Value for Players 10 to 14 Years Old is ${eteen_tpr}\")\n",
    "print(f\"The Total Purchase Value for Players 15 to 19 Years Old is ${lteen_tpr}\")\n",
    "print(f\"The Total Purchase Value for Players 20 to 24 Years Old is ${etwent_tpr}\")\n",
    "print(f\"The Total Purchase Value for Players 25 to 29 Years Old is ${ltwent_tpr}\")\n",
    "print(f\"The Total Purchase Value for Players 30 to 34 Years Old is ${ethirt_tpr}\")\n",
    "print(f\"The Total Purchase Value for Players 35 to 39 Years Old is ${lthirt_tpr}\")\n",
    "print(f\"The Total Purchase Value for Players 40 to 44 Years Old is ${efort_tpr}\")\n",
    "print(f\"The Total Purchase Value for Players 45 to 49 Years Old is ${lfort_tpr}\")"
   ]
  },
  {
   "cell_type": "code",
   "execution_count": 20,
   "metadata": {
    "tags": []
   },
   "outputs": [
    {
     "output_type": "stream",
     "name": "stdout",
     "text": "Average Purchase Total Per Player under 10 years old is $4.54\nAverage Purchase Total Per Player between ages of 10 and 14 is $3.76\nAverage Purchase Total Per Player between ages of 15 and 19 is $3.86\nAverage Purchase Total Per Player between ages of 20 and 24 is $4.32\nAverage Purchase Total Per Player between ages of 25 and 29 is $3.81\nAverage Purchase Total Per Player between ages of 30 and 34 is $4.12\nAverage Purchase Total Per Player between ages of 35 and 39 is $4.76\nAverage Purchase Total Per Player between ages of 40 and 44 is $3.32\nAverage Purchase Total Per Player between ages of 45 and 49 is $1.7\n"
    }
   ],
   "source": [
    "# The following 9 blocks of are used to calculate the Total Number of Players in Each Age Group\n",
    "#   Filter the data based on age\n",
    "#   Create a table that is indexed and grouped by the number of unique players in that age group\n",
    "#   Create a variable which holds the count of players in that age group\n",
    "\n",
    "btn_frame=purchdf_copy.loc[purchdf_copy[\"Age\"]<10,:]\n",
    "belten_frame=btn_frame.groupby([\"SN\"]).nunique()\n",
    "btn_count=belten_frame[\"SN\"].count()\n",
    "\n",
    "etn_frame=purchdf_copy.loc[(purchdf_copy[\"Age\"]>9) & (purchdf_copy[\"Age\"]<15),:]\n",
    "eteen_frame=etn_frame.groupby([\"SN\"]).nunique()\n",
    "etn_count=eteen_frame[\"SN\"].count()\n",
    "\n",
    "ltn_frame=purchdf_copy.loc[(purchdf_copy[\"Age\"]>14) & (purchdf_copy[\"Age\"]<20),:]\n",
    "lteen_frame=ltn_frame.groupby([\"SN\"]).nunique()\n",
    "ltn_count=lteen_frame[\"SN\"].count()\n",
    "\n",
    "etw_frame=purchdf_copy.loc[(purchdf_copy[\"Age\"]>19) & (purchdf_copy[\"Age\"]<25),:]\n",
    "etwen_frame=etw_frame.groupby([\"SN\"]).nunique()\n",
    "etw_count=etwen_frame[\"SN\"].count()\n",
    "\n",
    "ltw_frame=purchdf_copy.loc[(purchdf_copy[\"Age\"]>24) & (purchdf_copy[\"Age\"]<30),:]\n",
    "ltwen_frame=ltw_frame.groupby([\"SN\"]).nunique()\n",
    "ltw_count=ltwen_frame[\"SN\"].count()\n",
    "\n",
    "eth_frame=purchdf_copy.loc[(purchdf_copy[\"Age\"]>29) & (purchdf_copy[\"Age\"]<35),:]\n",
    "ethr_frame=eth_frame.groupby([\"SN\"]).nunique()\n",
    "eth_count=ethr_frame[\"SN\"].count()\n",
    "\n",
    "lth_frame=purchdf_copy.loc[(purchdf_copy[\"Age\"]>34) & (purchdf_copy[\"Age\"]<40),:]\n",
    "lthr_frame=lth_frame.groupby([\"SN\"]).nunique()\n",
    "lth_count=lthr_frame[\"SN\"].count()\n",
    "\n",
    "efr_frame=purchdf_copy.loc[(purchdf_copy[\"Age\"]>39) & (purchdf_copy[\"Age\"]<45),:]\n",
    "efor_frame=efr_frame.groupby([\"SN\"]).nunique()\n",
    "efr_count=efor_frame[\"SN\"].count()\n",
    "\n",
    "lfr_frame=purchdf_copy.loc[(purchdf_copy[\"Age\"]>44) & (purchdf_copy[\"Age\"]<50),:]\n",
    "lfor_frame=lfr_frame.groupby([\"SN\"]).nunique()\n",
    "lfr_count=lfor_frame[\"SN\"].count()\n",
    "\n",
    "\n",
    "#Block to calculate the average purchase per person for each age group and store those values into variables for each group\n",
    "btn_avepurch_per=round(bten_tpr/btn_count,2)\n",
    "etn_avepurch_per=round(eteen_tpr/etn_count,2)\n",
    "ltn_avepurch_per=round(lteen_tpr/ltn_count,2)\n",
    "etw_avepurch_per=round(etwent_tpr/etw_count,2)\n",
    "ltw_avepurch_per=round(ltwent_tpr/ltw_count,2)\n",
    "eth_avepurch_per=round(ethirt_tpr/eth_count,2)\n",
    "lth_avepurch_per=round(lthirt_tpr/lth_count,2)\n",
    "efr_avepurch_per=round(efort_tpr/efr_count,2)\n",
    "lfr_avepurch_per=round(lfort_tpr/lfr_count,2)\n",
    "\n",
    "# Block to output the required result to the terminal /console (Instructions do not call for table output)\n",
    "print(f\"Average Purchase Total Per Player under 10 years old is ${btn_avepurch_per}\")\n",
    "print(f\"Average Purchase Total Per Player between ages of 10 and 14 is ${etn_avepurch_per}\")\n",
    "print(f\"Average Purchase Total Per Player between ages of 15 and 19 is ${ltn_avepurch_per}\")\n",
    "print(f\"Average Purchase Total Per Player between ages of 20 and 24 is ${etw_avepurch_per}\")\n",
    "print(f\"Average Purchase Total Per Player between ages of 25 and 29 is ${ltw_avepurch_per}\")\n",
    "print(f\"Average Purchase Total Per Player between ages of 30 and 34 is ${eth_avepurch_per}\")\n",
    "print(f\"Average Purchase Total Per Player between ages of 35 and 39 is ${lth_avepurch_per}\")\n",
    "print(f\"Average Purchase Total Per Player between ages of 40 and 44 is ${efr_avepurch_per}\")\n",
    "print(f\"Average Purchase Total Per Player between ages of 45 and 49 is ${lfr_avepurch_per}\")"
   ]
  },
  {
   "source": [
    "## TOP SPENDERS"
   ],
   "cell_type": "markdown",
   "metadata": {}
  },
  {
   "cell_type": "code",
   "execution_count": 21,
   "metadata": {
    "tags": []
   },
   "outputs": [
    {
     "output_type": "execute_result",
     "data": {
      "text/plain": "             Purchase Count  Average Purchase Price  Total Purchase Value\nSN                                                                       \nLisosia93                 5                    3.79                 18.96\nIdastidru52               4                    3.86                 15.45\nChamjask73                3                    4.61                 13.83\nIral74                    4                    3.40                 13.62\nIskadarya95               3                    4.37                 13.10",
      "text/html": "<div>\n<style scoped>\n    .dataframe tbody tr th:only-of-type {\n        vertical-align: middle;\n    }\n\n    .dataframe tbody tr th {\n        vertical-align: top;\n    }\n\n    .dataframe thead th {\n        text-align: right;\n    }\n</style>\n<table border=\"1\" class=\"dataframe\">\n  <thead>\n    <tr style=\"text-align: right;\">\n      <th></th>\n      <th>Purchase Count</th>\n      <th>Average Purchase Price</th>\n      <th>Total Purchase Value</th>\n    </tr>\n    <tr>\n      <th>SN</th>\n      <th></th>\n      <th></th>\n      <th></th>\n    </tr>\n  </thead>\n  <tbody>\n    <tr>\n      <th>Lisosia93</th>\n      <td>5</td>\n      <td>3.79</td>\n      <td>18.96</td>\n    </tr>\n    <tr>\n      <th>Idastidru52</th>\n      <td>4</td>\n      <td>3.86</td>\n      <td>15.45</td>\n    </tr>\n    <tr>\n      <th>Chamjask73</th>\n      <td>3</td>\n      <td>4.61</td>\n      <td>13.83</td>\n    </tr>\n    <tr>\n      <th>Iral74</th>\n      <td>4</td>\n      <td>3.40</td>\n      <td>13.62</td>\n    </tr>\n    <tr>\n      <th>Iskadarya95</th>\n      <td>3</td>\n      <td>4.37</td>\n      <td>13.10</td>\n    </tr>\n  </tbody>\n</table>\n</div>"
     },
     "metadata": {},
     "execution_count": 21
    }
   ],
   "source": [
    "# Create a copy of the current dataframe to use for following analyses\n",
    "purchdfc=purchdf.copy()\n",
    "\n",
    "# Create a variable that contains a table that is grouped and indexed by the player user name\n",
    "spnddfgrp=purchdfc.groupby(purchdfc[\"SN\"])\n",
    "\n",
    "# Block that creates columns in the table for caluculated values for each player\n",
    "#   Number of Purchases\n",
    "#   Average Purchase Price\n",
    "#   Total Amount of Each Player's Purchases\n",
    "purch_count=spnddfgrp[\"Purchase ID\"].count()\n",
    "ave_purch_price=round(spnddfgrp[\"Price\"].mean(),2)\n",
    "tot_purch_val=spnddfgrp[\"Price\"].sum() \n",
    "\n",
    "# Create a new dictionary to hold the columns for a new dataframe that will hold the calculated values for each player\n",
    "topspnddict={\"Purchase Count\":purch_count, \"Average Purchase Price\":ave_purch_price, \"Total Purchase Value\":tot_purch_val}\n",
    "\n",
    "# Create a new dataframe from the dictionary to provide the required table output of the player data\n",
    "top_spender_df=pd.DataFrame(topspnddict)\n",
    "\n",
    "# Created a version of new dataframe that is sorted on the highest Total Purchase Value by player \n",
    "top_spender_df_sort=top_spender_df.sort_values(\"Total Purchase Value\",ascending=False)\n",
    "\n",
    "# Output the head of the sorted dataframe as a table (as required) to display the player data\n",
    "top_spender_df_sort.head()\n"
   ]
  },
  {
   "source": [
    "## MOST POPULAR ITEMS"
   ],
   "cell_type": "markdown",
   "metadata": {}
  },
  {
   "cell_type": "code",
   "execution_count": 23,
   "metadata": {},
   "outputs": [
    {
     "output_type": "execute_result",
     "data": {
      "text/plain": "                                              Item Name  Purchase Count  \\\nItem ID                                                                   \n92                                       [Final Critic]              13   \n178      [Oathbreaker, Last Hope of the Breaking Storm]              12   \n145                              [Fiery Glass Crusader]               9   \n132                                        [Persuasion]               9   \n108         [Extraction, Quickblade Of Trembling Hands]               9   \n\n           Item Price  Total Purchase Value  \nItem ID                                      \n92       [4.88, 4.19]                 59.99  \n178            [4.23]                 50.76  \n145            [4.58]                 41.22  \n132      [3.19, 3.33]                 28.99  \n108            [3.53]                 31.77  ",
      "text/html": "<div>\n<style scoped>\n    .dataframe tbody tr th:only-of-type {\n        vertical-align: middle;\n    }\n\n    .dataframe tbody tr th {\n        vertical-align: top;\n    }\n\n    .dataframe thead th {\n        text-align: right;\n    }\n</style>\n<table border=\"1\" class=\"dataframe\">\n  <thead>\n    <tr style=\"text-align: right;\">\n      <th></th>\n      <th>Item Name</th>\n      <th>Purchase Count</th>\n      <th>Item Price</th>\n      <th>Total Purchase Value</th>\n    </tr>\n    <tr>\n      <th>Item ID</th>\n      <th></th>\n      <th></th>\n      <th></th>\n      <th></th>\n    </tr>\n  </thead>\n  <tbody>\n    <tr>\n      <th>92</th>\n      <td>[Final Critic]</td>\n      <td>13</td>\n      <td>[4.88, 4.19]</td>\n      <td>59.99</td>\n    </tr>\n    <tr>\n      <th>178</th>\n      <td>[Oathbreaker, Last Hope of the Breaking Storm]</td>\n      <td>12</td>\n      <td>[4.23]</td>\n      <td>50.76</td>\n    </tr>\n    <tr>\n      <th>145</th>\n      <td>[Fiery Glass Crusader]</td>\n      <td>9</td>\n      <td>[4.58]</td>\n      <td>41.22</td>\n    </tr>\n    <tr>\n      <th>132</th>\n      <td>[Persuasion]</td>\n      <td>9</td>\n      <td>[3.19, 3.33]</td>\n      <td>28.99</td>\n    </tr>\n    <tr>\n      <th>108</th>\n      <td>[Extraction, Quickblade Of Trembling Hands]</td>\n      <td>9</td>\n      <td>[3.53]</td>\n      <td>31.77</td>\n    </tr>\n  </tbody>\n</table>\n</div>"
     },
     "metadata": {},
     "execution_count": 23
    }
   ],
   "source": [
    "# Create a variable that contains a table that is grouped and indexed by game items purchased\n",
    "popitmdf=purchdfc.groupby(purchdfc[\"Item ID\"])\n",
    "\n",
    "# Block that creates columns in the table for caluculated values for each item\n",
    "#   Name of all Items Purchased\n",
    "#   Number of Total Purchases for Each Item\n",
    "#   Prices Paid for Each Item\n",
    "#   Total Amount of Sales Revenue for Each Item\n",
    "itmnam=popitmdf[\"Item Name\"].unique()\n",
    "itmpurcnt=popitmdf[\"Purchase ID\"].count()\n",
    "itmprc=popitmdf[\"Price\"].unique()\n",
    "totpurval=popitmdf[\"Price\"].sum()\n",
    "\n",
    "# Create a new dictionary to hold the columns for a new dataframe that will hold the calculated values for each items\n",
    "mostpopdict={\"Item Name\":itmnam, \"Purchase Count\":itmpurcnt, \"Item Price\":itmprc, \"Total Purchase Value\":totpurval}\n",
    "\n",
    "# Create a new dataframe from the dictionary to provide the required table output of the item data\n",
    "most_popular_df=pd.DataFrame(mostpopdict)\n",
    "\n",
    "# Created a version of new dataframe that is sorted on the Largest Number of Purchases for each Item\n",
    "most_popular_df_sort=most_popular_df.sort_values(\"Purchase Count\", ascending=False)\n",
    "\n",
    "# Output the head of the sorted dataframe as a table (as required) to display the item data\n",
    "most_popular_df_sort.head()"
   ]
  },
  {
   "source": [
    "## MOST PROFITABLE ITEMS"
   ],
   "cell_type": "markdown",
   "metadata": {}
  },
  {
   "cell_type": "code",
   "execution_count": 26,
   "metadata": {},
   "outputs": [
    {
     "output_type": "execute_result",
     "data": {
      "text/plain": "                                              Item Name  Purchase Count  \\\nItem ID                                                                   \n92                                       [Final Critic]              13   \n178      [Oathbreaker, Last Hope of the Breaking Storm]              12   \n82                                            [Nirvana]               9   \n145                              [Fiery Glass Crusader]               9   \n103                                    [Singed Scalpel]               8   \n\n         Total Purchase Value  \nItem ID                        \n92                      59.99  \n178                     50.76  \n82                      44.10  \n145                     41.22  \n103                     34.80  ",
      "text/html": "<div>\n<style scoped>\n    .dataframe tbody tr th:only-of-type {\n        vertical-align: middle;\n    }\n\n    .dataframe tbody tr th {\n        vertical-align: top;\n    }\n\n    .dataframe thead th {\n        text-align: right;\n    }\n</style>\n<table border=\"1\" class=\"dataframe\">\n  <thead>\n    <tr style=\"text-align: right;\">\n      <th></th>\n      <th>Item Name</th>\n      <th>Purchase Count</th>\n      <th>Total Purchase Value</th>\n    </tr>\n    <tr>\n      <th>Item ID</th>\n      <th></th>\n      <th></th>\n      <th></th>\n    </tr>\n  </thead>\n  <tbody>\n    <tr>\n      <th>92</th>\n      <td>[Final Critic]</td>\n      <td>13</td>\n      <td>59.99</td>\n    </tr>\n    <tr>\n      <th>178</th>\n      <td>[Oathbreaker, Last Hope of the Breaking Storm]</td>\n      <td>12</td>\n      <td>50.76</td>\n    </tr>\n    <tr>\n      <th>82</th>\n      <td>[Nirvana]</td>\n      <td>9</td>\n      <td>44.10</td>\n    </tr>\n    <tr>\n      <th>145</th>\n      <td>[Fiery Glass Crusader]</td>\n      <td>9</td>\n      <td>41.22</td>\n    </tr>\n    <tr>\n      <th>103</th>\n      <td>[Singed Scalpel]</td>\n      <td>8</td>\n      <td>34.80</td>\n    </tr>\n  </tbody>\n</table>\n</div>"
     },
     "metadata": {},
     "execution_count": 26
    }
   ],
   "source": [
    "# Create a variable that contains a table that is grouped and indexed by game items purchased\n",
    "prfitmdf=purchdfc.groupby(purchdfc[\"Item ID\"])\n",
    "\n",
    "# Block that creates columns in the table for caluculated values for each item\n",
    "#   Name of all Items Purchased\n",
    "#   Number of Total Purchases for Each Item\n",
    "#   Total Amount of Sales Revenue for Each Item\n",
    "itmnme=prfitmdf[\"Item Name\"].unique()\n",
    "itmpurcon=prfitmdf[\"Purchase ID\"].count()\n",
    "toprval=prfitmdf[\"Price\"].sum()\n",
    "\n",
    "# Create a new dictionary to hold the columns for a new dataframe that will hold the calculated values for each items\n",
    "mostprofdict={\"Item Name\":itmnme, \"Purchase Count\":itmpurcon, \"Total Purchase Value\":toprval}\n",
    "\n",
    "# Create a new dataframe from the dictionary to provide the required table output of the item data\n",
    "most_prof_df=pd.DataFrame(mostprofdict)\n",
    "\n",
    "# Created a version of new dataframe that is sorted on the Total Amount of Sales Revenue (Total Purchase Value) for each Item\n",
    "most_prof_df_sort=most_prof_df.sort_values(\"Total Purchase Value\", ascending=False)\n",
    "\n",
    "# Output the head of the sorted dataframe as a table (as required) to display the item data\n",
    "most_prof_df_sort.head()"
   ]
  },
  {
   "cell_type": "code",
   "execution_count": null,
   "metadata": {},
   "outputs": [],
   "source": []
  }
 ]
}