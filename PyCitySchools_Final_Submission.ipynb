{
 "cells": [
  {
   "cell_type": "markdown",
   "metadata": {},
   "source": [
    "# PYCITY SCHOOLS STUDENT SUBJECT TEST PERFORMANCE ANALYSIS\n"
   ]
  },
  {
   "source": [
    "## Analysis Summary Obseravtions"
   ],
   "cell_type": "markdown",
   "metadata": {}
  },
  {
   "source": [
    "The results of the analysis of PyCity Schools reveal some very dramatic and valuable results for the school system.  The performance of schools in terms of math and reading test scores across the the population of students varies greatly within the system.   Related to this, a number of interesting observations are worth noting:\n",
    "\n",
    "1.  The top performing schools significant exceed the average for all schools in test scores.  This difference is most pronounced in the numbers of students passing math, reading, and both.  The Top performing schools have almost 20% more of the student population passing math than the average, greater than 10% more passing reading, and greater than 25% passing both subjects.  Furthermore the top schools exceed the bottom performing schools with almost 30% greater percentage of the total number of students passing math, and a very striking difference of almost 40% of the percentage of the student populations of each school passing both subjects\n",
    "\n",
    "2.  The budget/ spend for a school is not in and of iteslf a root cause statistic.  However, analysis of spend for the schools vs student test scores reveals some interesting results.  The schools were divided into 4 groups of budget size (240k to 980k, 980k to 1.72m, 1.72m to 2.46m, and 2.46m to 3.2m).  The data indicates a very clear and pronounced demarcation that occurs between those schools below 1.72m in budget and those above.  The schools below 1.72m in budget have average math and reading scores that are ~84 in both subjects.  Whereas, schools with spend above 1.72m have average math and reading scores of ~77 and 81 respectively.  The difference is very pronounced in the percentages of total students in the schools passing these subjects.  For those schools with spend below 1.72m the percentage of students passing is ~94% for math, ~97% for reading, and ~90% for both.  However, for schools with spend below 1.72m the percentages of students passing are ~67% for math, 81% for reading, and just over half of their total student populations passing both at ~54%.\n",
    "\n",
    "3.  Subject test performance differences are also seen in evaluations of scores by size of the school based on categories of number of students attending.  It must be noted that spend and size of school are directly correlated statistics and so the results are inherently related.  Schools were divided into three categories small(less than 1947 students), medium(1947 to 3468 students), and large(greater than 3468 students).  Once again, there is a clear difference in performance that occurs between small schools and schools or medium to large size. The percentage of students passing subjects in small schools is ~94% passing math, ~97% passing reading, and ~91% passing both.  For medium schools the numbers are much lower at ~72%, 84%, and 61% respectively.  For large schools the numbers continue the downward trend with size though a greatly decreased rate.  Their scores are ~67% passing math, ~81% passing reading, and ~54% passing both subjects.  These numbers, of course, reflect the same numbers seen in the budget analysis as budget and number of students are directly related.  One interesting point to note is that it is likely that the budget category for the sizes of schools, if not known, could likley be estimated due to this relationship.\n",
    "\n",
    "4.  Subjectively, the most interesting of the school performance analyses would be evaluations by type of school.  The results of this analysis, clearly, indicate that charter schools yield much higher results in terms of student performance than do their district counterparts.  The charter schools have an average of ~94% of the student populkation passing math, ~97% passing reading, and ~91% passing both. Whereas, the district schools have numbers of ~67%, ~81%, and ~54%.  These numbers directly reflect the numbers seen in ythe size and budget spend analyses which would tend to indicate that charter schools are smaller in size and budget than their district counterparts.  An additional analysis not included in the study that would be valauble for further enlightenment in this area would be an analysis of spend per student in charter vs district schools."
   ],
   "cell_type": "markdown",
   "metadata": {}
  },
  {
   "cell_type": "code",
   "execution_count": 63,
   "metadata": {},
   "outputs": [],
   "source": [
    "# Import Python modules\n",
    "import numpy as np\n",
    "import pandas as pd\n",
    "\n",
    "# Import data CSV files\n",
    "school_data_file = \"Resources/schools_complete.csv\"\n",
    "student_data_file = \"Resources/students_complete.csv\"\n",
    "\n",
    "# Read School and Student Data File and store into Pandas DataFrames\n",
    "school_data = pd.read_csv(school_data_file)\n",
    "student_data = pd.read_csv(student_data_file)\n",
    "\n",
    "# Merge the two dataframes into one dataframe  \n",
    "school_data_complete = pd.merge(student_data, school_data, how=\"left\", on=[\"school_name\", \"school_name\"])"
   ]
  },
  {
   "cell_type": "code",
   "execution_count": 58,
   "metadata": {},
   "outputs": [
    {
     "output_type": "execute_result",
     "data": {
      "text/plain": "   Student ID       student_name gender grade        school_name  \\\n0           0       Paul Bradley      M   9th  Huang High School   \n1           1       Victor Smith      M  12th  Huang High School   \n2           2    Kevin Rodriguez      M  12th  Huang High School   \n3           3  Dr. Richard Scott      M  12th  Huang High School   \n4           4         Bonnie Ray      F   9th  Huang High School   \n\n   reading_score  math_score  School ID      type  size   budget  \n0             66          79          0  District  2917  1910635  \n1             94          61          0  District  2917  1910635  \n2             90          60          0  District  2917  1910635  \n3             67          58          0  District  2917  1910635  \n4             97          84          0  District  2917  1910635  ",
      "text/html": "<div>\n<style scoped>\n    .dataframe tbody tr th:only-of-type {\n        vertical-align: middle;\n    }\n\n    .dataframe tbody tr th {\n        vertical-align: top;\n    }\n\n    .dataframe thead th {\n        text-align: right;\n    }\n</style>\n<table border=\"1\" class=\"dataframe\">\n  <thead>\n    <tr style=\"text-align: right;\">\n      <th></th>\n      <th>Student ID</th>\n      <th>student_name</th>\n      <th>gender</th>\n      <th>grade</th>\n      <th>school_name</th>\n      <th>reading_score</th>\n      <th>math_score</th>\n      <th>School ID</th>\n      <th>type</th>\n      <th>size</th>\n      <th>budget</th>\n    </tr>\n  </thead>\n  <tbody>\n    <tr>\n      <th>0</th>\n      <td>0</td>\n      <td>Paul Bradley</td>\n      <td>M</td>\n      <td>9th</td>\n      <td>Huang High School</td>\n      <td>66</td>\n      <td>79</td>\n      <td>0</td>\n      <td>District</td>\n      <td>2917</td>\n      <td>1910635</td>\n    </tr>\n    <tr>\n      <th>1</th>\n      <td>1</td>\n      <td>Victor Smith</td>\n      <td>M</td>\n      <td>12th</td>\n      <td>Huang High School</td>\n      <td>94</td>\n      <td>61</td>\n      <td>0</td>\n      <td>District</td>\n      <td>2917</td>\n      <td>1910635</td>\n    </tr>\n    <tr>\n      <th>2</th>\n      <td>2</td>\n      <td>Kevin Rodriguez</td>\n      <td>M</td>\n      <td>12th</td>\n      <td>Huang High School</td>\n      <td>90</td>\n      <td>60</td>\n      <td>0</td>\n      <td>District</td>\n      <td>2917</td>\n      <td>1910635</td>\n    </tr>\n    <tr>\n      <th>3</th>\n      <td>3</td>\n      <td>Dr. Richard Scott</td>\n      <td>M</td>\n      <td>12th</td>\n      <td>Huang High School</td>\n      <td>67</td>\n      <td>58</td>\n      <td>0</td>\n      <td>District</td>\n      <td>2917</td>\n      <td>1910635</td>\n    </tr>\n    <tr>\n      <th>4</th>\n      <td>4</td>\n      <td>Bonnie Ray</td>\n      <td>F</td>\n      <td>9th</td>\n      <td>Huang High School</td>\n      <td>97</td>\n      <td>84</td>\n      <td>0</td>\n      <td>District</td>\n      <td>2917</td>\n      <td>1910635</td>\n    </tr>\n  </tbody>\n</table>\n</div>"
     },
     "metadata": {},
     "execution_count": 58
    }
   ],
   "source": [
    "# Display the head of the data set for the analysis\n",
    "school_data_complete.head()"
   ]
  },
  {
   "cell_type": "markdown",
   "metadata": {},
   "source": [
    "## District Summary\n"
   ]
  },
  {
   "cell_type": "code",
   "execution_count": 135,
   "metadata": {
    "tags": []
   },
   "outputs": [
    {
     "output_type": "execute_result",
     "data": {
      "text/plain": "         Total Num Schools Total Num Students        Total Budget  \\\nSummary                 15             39,170  $82,932,329,558.00   \n\n         Ave Math Score  Ave Reading Score Percent Pass Math  \\\nSummary           78.99              81.88            %74.98   \n\n        Percent Pass Reading Percent Pass Both  \nSummary               %85.81            %65.17  ",
      "text/html": "<div>\n<style scoped>\n    .dataframe tbody tr th:only-of-type {\n        vertical-align: middle;\n    }\n\n    .dataframe tbody tr th {\n        vertical-align: top;\n    }\n\n    .dataframe thead th {\n        text-align: right;\n    }\n</style>\n<table border=\"1\" class=\"dataframe\">\n  <thead>\n    <tr style=\"text-align: right;\">\n      <th></th>\n      <th>Total Num Schools</th>\n      <th>Total Num Students</th>\n      <th>Total Budget</th>\n      <th>Ave Math Score</th>\n      <th>Ave Reading Score</th>\n      <th>Percent Pass Math</th>\n      <th>Percent Pass Reading</th>\n      <th>Percent Pass Both</th>\n    </tr>\n  </thead>\n  <tbody>\n    <tr>\n      <th>Summary</th>\n      <td>15</td>\n      <td>39,170</td>\n      <td>$82,932,329,558.00</td>\n      <td>78.99</td>\n      <td>81.88</td>\n      <td>%74.98</td>\n      <td>%85.81</td>\n      <td>%65.17</td>\n    </tr>\n  </tbody>\n</table>\n</div>"
     },
     "metadata": {},
     "execution_count": 135
    }
   ],
   "source": [
    "# Create a new dataframe to be used for the analysis by copying the created merge dataframe\n",
    "alldata_df=school_data_complete.copy()\n",
    "\n",
    "# Block to create the calculated values for the summary table (count unique, sum, and means)\n",
    "scholcnt=alldata_df[\"school_name\"].nunique()\n",
    "#print(f\"The Total Number of Schools in PyCity is:{scholcnt}\")\n",
    "studcnt=alldata_df[\"Student ID\"].nunique()\n",
    "#print(f\"The Total Number of Students in PyCity Schools is:{studcnt}\")\n",
    "budgsum=round(alldata_df[\"budget\"].sum(),2)\n",
    "#print(f\"The Total Budget for PyCity Schools is:${budgsum}\")\n",
    "avemath=round(alldata_df[\"math_score\"].mean(),2)\n",
    "#print(f\"The Average Math Score for Studentsa of PyCity Schools is:{avemath}\")\n",
    "averead=round(alldata_df[\"reading_score\"].mean(),2)\n",
    "#print(f\"The Average Reading Score for Students of PyCity Schools is:{averead}\")\n",
    "\n",
    "#Block to identify the number and percent of students from all schools that passed math, reading, and both\n",
    "passmathnum=alldata_df.loc[alldata_df[\"math_score\"]>69,:]\n",
    "passmathprc=round((passmathnum[\"math_score\"].count()/studcnt)*100,2)\n",
    "#print(f\"The Percentage of Students with a Passing Math Score is: %{passmathprc}\")\n",
    "passreadnum=alldata_df.loc[alldata_df[\"reading_score\"]>69,:]\n",
    "passreadprc=round((passreadnum[\"reading_score\"].count()/studcnt)*100,2)\n",
    "#print(f\"The Percentage of Students with a Passing Reading Score is: %{passreadprc}\")\n",
    "passbothnum=alldata_df.loc[(alldata_df[\"reading_score\"]>69) & (alldata_df[\"math_score\"]>69),:]\n",
    "passbothprc=round((passbothnum[\"reading_score\"].count()/studcnt)*100,2)\n",
    "#print(f\"The Percentage of Students Passing Both Math and Reading is: %{passbothprc}\")\n",
    "\n",
    "# create a dictionary to to be used for the resulting data table\n",
    "sumdict={\"Total Num Schools\": scholcnt,\"Total Num Students\": studcnt, \"Total Budget\":budgsum,\"Ave Math Score\":avemath,\"Ave Reading Score\":averead,\"Percent Pass Math\":passmathprc,\"Percent Pass Reading\":passreadprc,\"Percent Pass Both\":passbothprc}\n",
    "\n",
    "# create a dataframe from the dictionary\n",
    "sum_df=pd.DataFrame(sumdict,index=['Summary'])\n",
    "\n",
    "# provide additional formatting for the data fields in the table for percentages, currency, and thousands (For Optional)\n",
    "sum_df[\"Total Num Students\"]=sum_df[\"Total Num Students\"].map(\"{:,}\".format)\n",
    "sum_df[\"Total Budget\"]=sum_df[\"Total Budget\"].map(\"${:,.2f}\".format)\n",
    "sum_df[\"Percent Pass Math\"]=sum_df[\"Percent Pass Math\"].map(\"%{:}\".format)\n",
    "sum_df[\"Percent Pass Reading\"]=sum_df[\"Percent Pass Reading\"].map(\"%{:}\".format)\n",
    "sum_df[\"Percent Pass Both\"]=sum_df[\"Percent Pass Both\"].map(\"%{:}\".format)\n",
    "\n",
    "#output the final dataframe\n",
    "sum_df"
   ]
  },
  {
   "cell_type": "markdown",
   "metadata": {},
   "source": [
    "## School Summary"
   ]
  },
  {
   "cell_type": "code",
   "execution_count": 138,
   "metadata": {
    "tags": []
   },
   "outputs": [
    {
     "output_type": "execute_result",
     "data": {
      "text/plain": "                      School Type  Total Num of Students Total Budget  \\\nschool_name                                                             \nBailey High School     [District]                   4976    [3124928]   \nCabrera High School     [Charter]                   1858    [1081356]   \nFigueroa High School   [District]                   2949    [1884411]   \nFord High School       [District]                   2739    [1763916]   \nGriffin High School     [Charter]                   1468     [917500]   \nHernandez High School  [District]                   4635    [3022020]   \nHolden High School      [Charter]                    427     [248087]   \nHuang High School      [District]                   2917    [1910635]   \nJohnson High School    [District]                   4761    [3094650]   \nPena High School        [Charter]                    962     [585858]   \nRodriguez High School  [District]                   3999    [2547363]   \nShelton High School     [Charter]                   1761    [1056600]   \nThomas High School      [Charter]                   1635    [1043130]   \nWilson High School      [Charter]                   2283    [1319574]   \nWright High School      [Charter]                   1800    [1049400]   \n\n                      Per Student Budget  Average Math Score  \\\nschool_name                                                    \nBailey High School               [628.0]               77.05   \nCabrera High School              [582.0]               83.06   \nFigueroa High School             [639.0]               76.71   \nFord High School                 [644.0]               77.10   \nGriffin High School              [625.0]               83.35   \nHernandez High School            [652.0]               77.29   \nHolden High School               [581.0]               83.80   \nHuang High School                [655.0]               76.63   \nJohnson High School              [650.0]               77.07   \nPena High School                 [609.0]               83.84   \nRodriguez High School            [637.0]               76.84   \nShelton High School              [600.0]               83.36   \nThomas High School               [638.0]               83.42   \nWilson High School               [578.0]               83.27   \nWright High School               [583.0]               83.68   \n\n                       Average Reading Score  % Passing Math  \\\nschool_name                                                    \nBailey High School                     81.03           66.68   \nCabrera High School                    83.98           94.13   \nFigueroa High School                   81.16           65.99   \nFord High School                       80.75           68.31   \nGriffin High School                    83.82           93.39   \nHernandez High School                  80.93           66.75   \nHolden High School                     83.81           92.51   \nHuang High School                      81.18           65.68   \nJohnson High School                    80.97           66.06   \nPena High School                       84.04           94.59   \nRodriguez High School                  80.74           66.37   \nShelton High School                    83.73           93.87   \nThomas High School                     83.85           93.27   \nWilson High School                     83.99           93.87   \nWright High School                     83.96           93.33   \n\n                       % Passing Reading  % Overall Passing  \nschool_name                                                  \nBailey High School                 81.93              54.64  \nCabrera High School                97.04              91.33  \nFigueroa High School               80.74              53.20  \nFord High School                   79.30              54.29  \nGriffin High School                97.14              90.60  \nHernandez High School              80.86              53.53  \nHolden High School                 96.25              89.23  \nHuang High School                  81.32              53.51  \nJohnson High School                81.22              53.54  \nPena High School                   95.95              90.54  \nRodriguez High School              80.22              52.99  \nShelton High School                95.85              89.89  \nThomas High School                 97.31              90.95  \nWilson High School                 96.54              90.58  \nWright High School                 96.61              90.33  ",
      "text/html": "<div>\n<style scoped>\n    .dataframe tbody tr th:only-of-type {\n        vertical-align: middle;\n    }\n\n    .dataframe tbody tr th {\n        vertical-align: top;\n    }\n\n    .dataframe thead th {\n        text-align: right;\n    }\n</style>\n<table border=\"1\" class=\"dataframe\">\n  <thead>\n    <tr style=\"text-align: right;\">\n      <th></th>\n      <th>School Type</th>\n      <th>Total Num of Students</th>\n      <th>Total Budget</th>\n      <th>Per Student Budget</th>\n      <th>Average Math Score</th>\n      <th>Average Reading Score</th>\n      <th>% Passing Math</th>\n      <th>% Passing Reading</th>\n      <th>% Overall Passing</th>\n    </tr>\n    <tr>\n      <th>school_name</th>\n      <th></th>\n      <th></th>\n      <th></th>\n      <th></th>\n      <th></th>\n      <th></th>\n      <th></th>\n      <th></th>\n      <th></th>\n    </tr>\n  </thead>\n  <tbody>\n    <tr>\n      <th>Bailey High School</th>\n      <td>[District]</td>\n      <td>4976</td>\n      <td>[3124928]</td>\n      <td>[628.0]</td>\n      <td>77.05</td>\n      <td>81.03</td>\n      <td>66.68</td>\n      <td>81.93</td>\n      <td>54.64</td>\n    </tr>\n    <tr>\n      <th>Cabrera High School</th>\n      <td>[Charter]</td>\n      <td>1858</td>\n      <td>[1081356]</td>\n      <td>[582.0]</td>\n      <td>83.06</td>\n      <td>83.98</td>\n      <td>94.13</td>\n      <td>97.04</td>\n      <td>91.33</td>\n    </tr>\n    <tr>\n      <th>Figueroa High School</th>\n      <td>[District]</td>\n      <td>2949</td>\n      <td>[1884411]</td>\n      <td>[639.0]</td>\n      <td>76.71</td>\n      <td>81.16</td>\n      <td>65.99</td>\n      <td>80.74</td>\n      <td>53.20</td>\n    </tr>\n    <tr>\n      <th>Ford High School</th>\n      <td>[District]</td>\n      <td>2739</td>\n      <td>[1763916]</td>\n      <td>[644.0]</td>\n      <td>77.10</td>\n      <td>80.75</td>\n      <td>68.31</td>\n      <td>79.30</td>\n      <td>54.29</td>\n    </tr>\n    <tr>\n      <th>Griffin High School</th>\n      <td>[Charter]</td>\n      <td>1468</td>\n      <td>[917500]</td>\n      <td>[625.0]</td>\n      <td>83.35</td>\n      <td>83.82</td>\n      <td>93.39</td>\n      <td>97.14</td>\n      <td>90.60</td>\n    </tr>\n    <tr>\n      <th>Hernandez High School</th>\n      <td>[District]</td>\n      <td>4635</td>\n      <td>[3022020]</td>\n      <td>[652.0]</td>\n      <td>77.29</td>\n      <td>80.93</td>\n      <td>66.75</td>\n      <td>80.86</td>\n      <td>53.53</td>\n    </tr>\n    <tr>\n      <th>Holden High School</th>\n      <td>[Charter]</td>\n      <td>427</td>\n      <td>[248087]</td>\n      <td>[581.0]</td>\n      <td>83.80</td>\n      <td>83.81</td>\n      <td>92.51</td>\n      <td>96.25</td>\n      <td>89.23</td>\n    </tr>\n    <tr>\n      <th>Huang High School</th>\n      <td>[District]</td>\n      <td>2917</td>\n      <td>[1910635]</td>\n      <td>[655.0]</td>\n      <td>76.63</td>\n      <td>81.18</td>\n      <td>65.68</td>\n      <td>81.32</td>\n      <td>53.51</td>\n    </tr>\n    <tr>\n      <th>Johnson High School</th>\n      <td>[District]</td>\n      <td>4761</td>\n      <td>[3094650]</td>\n      <td>[650.0]</td>\n      <td>77.07</td>\n      <td>80.97</td>\n      <td>66.06</td>\n      <td>81.22</td>\n      <td>53.54</td>\n    </tr>\n    <tr>\n      <th>Pena High School</th>\n      <td>[Charter]</td>\n      <td>962</td>\n      <td>[585858]</td>\n      <td>[609.0]</td>\n      <td>83.84</td>\n      <td>84.04</td>\n      <td>94.59</td>\n      <td>95.95</td>\n      <td>90.54</td>\n    </tr>\n    <tr>\n      <th>Rodriguez High School</th>\n      <td>[District]</td>\n      <td>3999</td>\n      <td>[2547363]</td>\n      <td>[637.0]</td>\n      <td>76.84</td>\n      <td>80.74</td>\n      <td>66.37</td>\n      <td>80.22</td>\n      <td>52.99</td>\n    </tr>\n    <tr>\n      <th>Shelton High School</th>\n      <td>[Charter]</td>\n      <td>1761</td>\n      <td>[1056600]</td>\n      <td>[600.0]</td>\n      <td>83.36</td>\n      <td>83.73</td>\n      <td>93.87</td>\n      <td>95.85</td>\n      <td>89.89</td>\n    </tr>\n    <tr>\n      <th>Thomas High School</th>\n      <td>[Charter]</td>\n      <td>1635</td>\n      <td>[1043130]</td>\n      <td>[638.0]</td>\n      <td>83.42</td>\n      <td>83.85</td>\n      <td>93.27</td>\n      <td>97.31</td>\n      <td>90.95</td>\n    </tr>\n    <tr>\n      <th>Wilson High School</th>\n      <td>[Charter]</td>\n      <td>2283</td>\n      <td>[1319574]</td>\n      <td>[578.0]</td>\n      <td>83.27</td>\n      <td>83.99</td>\n      <td>93.87</td>\n      <td>96.54</td>\n      <td>90.58</td>\n    </tr>\n    <tr>\n      <th>Wright High School</th>\n      <td>[Charter]</td>\n      <td>1800</td>\n      <td>[1049400]</td>\n      <td>[583.0]</td>\n      <td>83.68</td>\n      <td>83.96</td>\n      <td>93.33</td>\n      <td>96.61</td>\n      <td>90.33</td>\n    </tr>\n  </tbody>\n</table>\n</div>"
     },
     "metadata": {},
     "execution_count": 138
    }
   ],
   "source": [
    "# Segregate the data by individual school\n",
    "school_df=alldata_df.groupby([\"school_name\"])\n",
    "\n",
    "# Create the calculated basic data for the individual schools and assign to variables\n",
    "schoolname=school_df[\"school_name\"].unique()\n",
    "schooltype=school_df[\"type\"].unique()\n",
    "schooltotstud=school_df[\"Student ID\"].count()\n",
    "schoolbudg=school_df[\"budget\"].unique()\n",
    "\n",
    "#Create additonal calculated  data for the schools using basic variables and assign to variables\n",
    "schoolperstudbudg=schoolbudg/schooltotstud\n",
    "schoolavemathscor=round((school_df[\"math_score\"].sum()/schooltotstud),2)\n",
    "schoolavereadscor=round((school_df[\"reading_score\"].sum()/schooltotstud),2)\n",
    "\n",
    "# Block to calculate the number and percentage of students within each school passing math, reading, and both\n",
    "allnumpassmath=alldata_df.loc[alldata_df[\"math_score\"]>69,:]\n",
    "schoolmathgrp=allnumpassmath.groupby([\"school_name\"])\n",
    "schoolnumpassmath=schoolmathgrp[\"Student ID\"].count()\n",
    "schoolperpassmath=round((schoolnumpassmath/schooltotstud)*100,2)\n",
    "allnumpassread=alldata_df.loc[alldata_df[\"reading_score\"]>69,:]\n",
    "schoolreadgrp=allnumpassread.groupby([\"school_name\"])\n",
    "schoolnumpassread=schoolreadgrp[\"Student ID\"].count()\n",
    "schoolperpassread=round((schoolnumpassread/schooltotstud)*100,2)\n",
    "allnumpassboth=alldata_df.loc[(alldata_df[\"math_score\"]>69) & (alldata_df[\"reading_score\"]>69),:]\n",
    "schoolbothgrp=allnumpassboth.groupby([\"school_name\"])\n",
    "schoolnumpassboth=schoolbothgrp[\"Student ID\"].count()\n",
    "schoolperpassboth=round((schoolnumpassboth/schooltotstud)*100,2)\n",
    "\n",
    "# Create a dictionary to be used for the output dataframe table\n",
    "school_dict={\"School Type\":schooltype,\"Total Num of Students\":schooltotstud,\"Total Budget\":schoolbudg, \"Per Student Budget\":schoolperstudbudg,\"Average Math Score\":schoolavemathscor, \"Average Reading Score\":schoolavereadscor, \"% Passing Math\":schoolperpassmath,\"% Passing Reading\":schoolperpassread, \"% Overall Passing\":schoolperpassboth}\n",
    "\n",
    "# Create a dataframe from the dictionary \n",
    "schoolsum_df=pd.DataFrame(school_dict)\n",
    "\n",
    "# Output the dataframe table\n",
    "schoolsum_df"
   ]
  },
  {
   "cell_type": "markdown",
   "metadata": {},
   "source": [
    "## Top Performing Schools (By % Overall Passing)"
   ]
  },
  {
   "cell_type": "code",
   "execution_count": 101,
   "metadata": {
    "scrolled": true
   },
   "outputs": [
    {
     "output_type": "execute_result",
     "data": {
      "text/plain": "                    School Type  Total Num of Students Total Budget  \\\nschool_name                                                           \nCabrera High School   [Charter]                   1858    [1081356]   \nThomas High School    [Charter]                   1635    [1043130]   \nGriffin High School   [Charter]                   1468     [917500]   \nWilson High School    [Charter]                   2283    [1319574]   \nPena High School      [Charter]                    962     [585858]   \n\n                    Per Student Budget  Average Math Score  \\\nschool_name                                                  \nCabrera High School            [582.0]               83.06   \nThomas High School             [638.0]               83.42   \nGriffin High School            [625.0]               83.35   \nWilson High School             [578.0]               83.27   \nPena High School               [609.0]               83.84   \n\n                     Average Reading Score  % Passing Math  % Passing Reading  \\\nschool_name                                                                     \nCabrera High School                  83.98           94.13              97.04   \nThomas High School                   83.85           93.27              97.31   \nGriffin High School                  83.82           93.39              97.14   \nWilson High School                   83.99           93.87              96.54   \nPena High School                     84.04           94.59              95.95   \n\n                     % Overall Passing  \nschool_name                             \nCabrera High School              91.33  \nThomas High School               90.95  \nGriffin High School              90.60  \nWilson High School               90.58  \nPena High School                 90.54  ",
      "text/html": "<div>\n<style scoped>\n    .dataframe tbody tr th:only-of-type {\n        vertical-align: middle;\n    }\n\n    .dataframe tbody tr th {\n        vertical-align: top;\n    }\n\n    .dataframe thead th {\n        text-align: right;\n    }\n</style>\n<table border=\"1\" class=\"dataframe\">\n  <thead>\n    <tr style=\"text-align: right;\">\n      <th></th>\n      <th>School Type</th>\n      <th>Total Num of Students</th>\n      <th>Total Budget</th>\n      <th>Per Student Budget</th>\n      <th>Average Math Score</th>\n      <th>Average Reading Score</th>\n      <th>% Passing Math</th>\n      <th>% Passing Reading</th>\n      <th>% Overall Passing</th>\n    </tr>\n    <tr>\n      <th>school_name</th>\n      <th></th>\n      <th></th>\n      <th></th>\n      <th></th>\n      <th></th>\n      <th></th>\n      <th></th>\n      <th></th>\n      <th></th>\n    </tr>\n  </thead>\n  <tbody>\n    <tr>\n      <th>Cabrera High School</th>\n      <td>[Charter]</td>\n      <td>1858</td>\n      <td>[1081356]</td>\n      <td>[582.0]</td>\n      <td>83.06</td>\n      <td>83.98</td>\n      <td>94.13</td>\n      <td>97.04</td>\n      <td>91.33</td>\n    </tr>\n    <tr>\n      <th>Thomas High School</th>\n      <td>[Charter]</td>\n      <td>1635</td>\n      <td>[1043130]</td>\n      <td>[638.0]</td>\n      <td>83.42</td>\n      <td>83.85</td>\n      <td>93.27</td>\n      <td>97.31</td>\n      <td>90.95</td>\n    </tr>\n    <tr>\n      <th>Griffin High School</th>\n      <td>[Charter]</td>\n      <td>1468</td>\n      <td>[917500]</td>\n      <td>[625.0]</td>\n      <td>83.35</td>\n      <td>83.82</td>\n      <td>93.39</td>\n      <td>97.14</td>\n      <td>90.60</td>\n    </tr>\n    <tr>\n      <th>Wilson High School</th>\n      <td>[Charter]</td>\n      <td>2283</td>\n      <td>[1319574]</td>\n      <td>[578.0]</td>\n      <td>83.27</td>\n      <td>83.99</td>\n      <td>93.87</td>\n      <td>96.54</td>\n      <td>90.58</td>\n    </tr>\n    <tr>\n      <th>Pena High School</th>\n      <td>[Charter]</td>\n      <td>962</td>\n      <td>[585858]</td>\n      <td>[609.0]</td>\n      <td>83.84</td>\n      <td>84.04</td>\n      <td>94.59</td>\n      <td>95.95</td>\n      <td>90.54</td>\n    </tr>\n  </tbody>\n</table>\n</div>"
     },
     "metadata": {},
     "execution_count": 101
    }
   ],
   "source": [
    "# sort the school summary data by highest overall passing percent , assign to a new dataframe, and output the table\n",
    "topschools_df=schoolsum_df.sort_values(\"% Overall Passing\", ascending=False)\n",
    "topschools_df.head()"
   ]
  },
  {
   "cell_type": "markdown",
   "metadata": {},
   "source": [
    "## Bottom Performing Schools (By % Overall Passing)"
   ]
  },
  {
   "cell_type": "code",
   "execution_count": 102,
   "metadata": {},
   "outputs": [
    {
     "output_type": "execute_result",
     "data": {
      "text/plain": "                      School Type  Total Num of Students Total Budget  \\\nschool_name                                                             \nRodriguez High School  [District]                   3999    [2547363]   \nFigueroa High School   [District]                   2949    [1884411]   \nHuang High School      [District]                   2917    [1910635]   \nHernandez High School  [District]                   4635    [3022020]   \nJohnson High School    [District]                   4761    [3094650]   \n\n                      Per Student Budget  Average Math Score  \\\nschool_name                                                    \nRodriguez High School            [637.0]               76.84   \nFigueroa High School             [639.0]               76.71   \nHuang High School                [655.0]               76.63   \nHernandez High School            [652.0]               77.29   \nJohnson High School              [650.0]               77.07   \n\n                       Average Reading Score  % Passing Math  \\\nschool_name                                                    \nRodriguez High School                  80.74           66.37   \nFigueroa High School                   81.16           65.99   \nHuang High School                      81.18           65.68   \nHernandez High School                  80.93           66.75   \nJohnson High School                    80.97           66.06   \n\n                       % Passing Reading  % Overall Passing  \nschool_name                                                  \nRodriguez High School              80.22              52.99  \nFigueroa High School               80.74              53.20  \nHuang High School                  81.32              53.51  \nHernandez High School              80.86              53.53  \nJohnson High School                81.22              53.54  ",
      "text/html": "<div>\n<style scoped>\n    .dataframe tbody tr th:only-of-type {\n        vertical-align: middle;\n    }\n\n    .dataframe tbody tr th {\n        vertical-align: top;\n    }\n\n    .dataframe thead th {\n        text-align: right;\n    }\n</style>\n<table border=\"1\" class=\"dataframe\">\n  <thead>\n    <tr style=\"text-align: right;\">\n      <th></th>\n      <th>School Type</th>\n      <th>Total Num of Students</th>\n      <th>Total Budget</th>\n      <th>Per Student Budget</th>\n      <th>Average Math Score</th>\n      <th>Average Reading Score</th>\n      <th>% Passing Math</th>\n      <th>% Passing Reading</th>\n      <th>% Overall Passing</th>\n    </tr>\n    <tr>\n      <th>school_name</th>\n      <th></th>\n      <th></th>\n      <th></th>\n      <th></th>\n      <th></th>\n      <th></th>\n      <th></th>\n      <th></th>\n      <th></th>\n    </tr>\n  </thead>\n  <tbody>\n    <tr>\n      <th>Rodriguez High School</th>\n      <td>[District]</td>\n      <td>3999</td>\n      <td>[2547363]</td>\n      <td>[637.0]</td>\n      <td>76.84</td>\n      <td>80.74</td>\n      <td>66.37</td>\n      <td>80.22</td>\n      <td>52.99</td>\n    </tr>\n    <tr>\n      <th>Figueroa High School</th>\n      <td>[District]</td>\n      <td>2949</td>\n      <td>[1884411]</td>\n      <td>[639.0]</td>\n      <td>76.71</td>\n      <td>81.16</td>\n      <td>65.99</td>\n      <td>80.74</td>\n      <td>53.20</td>\n    </tr>\n    <tr>\n      <th>Huang High School</th>\n      <td>[District]</td>\n      <td>2917</td>\n      <td>[1910635]</td>\n      <td>[655.0]</td>\n      <td>76.63</td>\n      <td>81.18</td>\n      <td>65.68</td>\n      <td>81.32</td>\n      <td>53.51</td>\n    </tr>\n    <tr>\n      <th>Hernandez High School</th>\n      <td>[District]</td>\n      <td>4635</td>\n      <td>[3022020]</td>\n      <td>[652.0]</td>\n      <td>77.29</td>\n      <td>80.93</td>\n      <td>66.75</td>\n      <td>80.86</td>\n      <td>53.53</td>\n    </tr>\n    <tr>\n      <th>Johnson High School</th>\n      <td>[District]</td>\n      <td>4761</td>\n      <td>[3094650]</td>\n      <td>[650.0]</td>\n      <td>77.07</td>\n      <td>80.97</td>\n      <td>66.06</td>\n      <td>81.22</td>\n      <td>53.54</td>\n    </tr>\n  </tbody>\n</table>\n</div>"
     },
     "metadata": {},
     "execution_count": 102
    }
   ],
   "source": [
    "# sort the school summary data by lowest overall passing percent , assign to a new dataframe, and output the table\n",
    "bottomschools_df=schoolsum_df.sort_values(\"% Overall Passing\", ascending=True)\n",
    "bottomschools_df.head()"
   ]
  },
  {
   "cell_type": "markdown",
   "metadata": {
    "collapsed": true
   },
   "source": [
    "## Math Scores by Grade"
   ]
  },
  {
   "cell_type": "code",
   "execution_count": 108,
   "metadata": {},
   "outputs": [
    {
     "output_type": "execute_result",
     "data": {
      "text/plain": "                            math_score\n                                  mean\nschool_name           grade           \nBailey High School    10th       77.00\n                      11th       77.52\n                      12th       76.49\n                      9th        77.08\nCabrera High School   10th       83.15\n                      11th       82.77\n                      12th       83.28\n                      9th        83.09\nFigueroa High School  10th       76.54\n                      11th       76.88\n                      12th       77.15\n                      9th        76.40\nFord High School      10th       77.67\n                      11th       76.92\n                      12th       76.18\n                      9th        77.36\nGriffin High School   10th       84.23\n                      11th       83.84\n                      12th       83.36\n                      9th        82.04\nHernandez High School 10th       77.34\n                      11th       77.14\n                      12th       77.19\n                      9th        77.44\nHolden High School    10th       83.43\n                      11th       85.00\n                      12th       82.86\n                      9th        83.79\nHuang High School     10th       75.91\n                      11th       76.45\n                      12th       77.23\n                      9th        77.03\nJohnson High School   10th       76.69\n                      11th       77.49\n                      12th       76.86\n                      9th        77.19\nPena High School      10th       83.37\n                      11th       84.33\n                      12th       84.12\n                      9th        83.63\nRodriguez High School 10th       76.61\n                      11th       76.40\n                      12th       77.69\n                      9th        76.86\nShelton High School   10th       82.92\n                      11th       83.38\n                      12th       83.78\n                      9th        83.42\nThomas High School    10th       83.09\n                      11th       83.50\n                      12th       83.50\n                      9th        83.59\nWilson High School    10th       83.72\n                      11th       83.20\n                      12th       83.04\n                      9th        83.09\nWright High School    10th       84.01\n                      11th       83.84\n                      12th       83.64\n                      9th        83.26",
      "text/html": "<div>\n<style scoped>\n    .dataframe tbody tr th:only-of-type {\n        vertical-align: middle;\n    }\n\n    .dataframe tbody tr th {\n        vertical-align: top;\n    }\n\n    .dataframe thead tr th {\n        text-align: left;\n    }\n\n    .dataframe thead tr:last-of-type th {\n        text-align: right;\n    }\n</style>\n<table border=\"1\" class=\"dataframe\">\n  <thead>\n    <tr>\n      <th></th>\n      <th></th>\n      <th>math_score</th>\n    </tr>\n    <tr>\n      <th></th>\n      <th></th>\n      <th>mean</th>\n    </tr>\n    <tr>\n      <th>school_name</th>\n      <th>grade</th>\n      <th></th>\n    </tr>\n  </thead>\n  <tbody>\n    <tr>\n      <th rowspan=\"4\" valign=\"top\">Bailey High School</th>\n      <th>10th</th>\n      <td>77.00</td>\n    </tr>\n    <tr>\n      <th>11th</th>\n      <td>77.52</td>\n    </tr>\n    <tr>\n      <th>12th</th>\n      <td>76.49</td>\n    </tr>\n    <tr>\n      <th>9th</th>\n      <td>77.08</td>\n    </tr>\n    <tr>\n      <th rowspan=\"4\" valign=\"top\">Cabrera High School</th>\n      <th>10th</th>\n      <td>83.15</td>\n    </tr>\n    <tr>\n      <th>11th</th>\n      <td>82.77</td>\n    </tr>\n    <tr>\n      <th>12th</th>\n      <td>83.28</td>\n    </tr>\n    <tr>\n      <th>9th</th>\n      <td>83.09</td>\n    </tr>\n    <tr>\n      <th rowspan=\"4\" valign=\"top\">Figueroa High School</th>\n      <th>10th</th>\n      <td>76.54</td>\n    </tr>\n    <tr>\n      <th>11th</th>\n      <td>76.88</td>\n    </tr>\n    <tr>\n      <th>12th</th>\n      <td>77.15</td>\n    </tr>\n    <tr>\n      <th>9th</th>\n      <td>76.40</td>\n    </tr>\n    <tr>\n      <th rowspan=\"4\" valign=\"top\">Ford High School</th>\n      <th>10th</th>\n      <td>77.67</td>\n    </tr>\n    <tr>\n      <th>11th</th>\n      <td>76.92</td>\n    </tr>\n    <tr>\n      <th>12th</th>\n      <td>76.18</td>\n    </tr>\n    <tr>\n      <th>9th</th>\n      <td>77.36</td>\n    </tr>\n    <tr>\n      <th rowspan=\"4\" valign=\"top\">Griffin High School</th>\n      <th>10th</th>\n      <td>84.23</td>\n    </tr>\n    <tr>\n      <th>11th</th>\n      <td>83.84</td>\n    </tr>\n    <tr>\n      <th>12th</th>\n      <td>83.36</td>\n    </tr>\n    <tr>\n      <th>9th</th>\n      <td>82.04</td>\n    </tr>\n    <tr>\n      <th rowspan=\"4\" valign=\"top\">Hernandez High School</th>\n      <th>10th</th>\n      <td>77.34</td>\n    </tr>\n    <tr>\n      <th>11th</th>\n      <td>77.14</td>\n    </tr>\n    <tr>\n      <th>12th</th>\n      <td>77.19</td>\n    </tr>\n    <tr>\n      <th>9th</th>\n      <td>77.44</td>\n    </tr>\n    <tr>\n      <th rowspan=\"4\" valign=\"top\">Holden High School</th>\n      <th>10th</th>\n      <td>83.43</td>\n    </tr>\n    <tr>\n      <th>11th</th>\n      <td>85.00</td>\n    </tr>\n    <tr>\n      <th>12th</th>\n      <td>82.86</td>\n    </tr>\n    <tr>\n      <th>9th</th>\n      <td>83.79</td>\n    </tr>\n    <tr>\n      <th rowspan=\"4\" valign=\"top\">Huang High School</th>\n      <th>10th</th>\n      <td>75.91</td>\n    </tr>\n    <tr>\n      <th>11th</th>\n      <td>76.45</td>\n    </tr>\n    <tr>\n      <th>12th</th>\n      <td>77.23</td>\n    </tr>\n    <tr>\n      <th>9th</th>\n      <td>77.03</td>\n    </tr>\n    <tr>\n      <th rowspan=\"4\" valign=\"top\">Johnson High School</th>\n      <th>10th</th>\n      <td>76.69</td>\n    </tr>\n    <tr>\n      <th>11th</th>\n      <td>77.49</td>\n    </tr>\n    <tr>\n      <th>12th</th>\n      <td>76.86</td>\n    </tr>\n    <tr>\n      <th>9th</th>\n      <td>77.19</td>\n    </tr>\n    <tr>\n      <th rowspan=\"4\" valign=\"top\">Pena High School</th>\n      <th>10th</th>\n      <td>83.37</td>\n    </tr>\n    <tr>\n      <th>11th</th>\n      <td>84.33</td>\n    </tr>\n    <tr>\n      <th>12th</th>\n      <td>84.12</td>\n    </tr>\n    <tr>\n      <th>9th</th>\n      <td>83.63</td>\n    </tr>\n    <tr>\n      <th rowspan=\"4\" valign=\"top\">Rodriguez High School</th>\n      <th>10th</th>\n      <td>76.61</td>\n    </tr>\n    <tr>\n      <th>11th</th>\n      <td>76.40</td>\n    </tr>\n    <tr>\n      <th>12th</th>\n      <td>77.69</td>\n    </tr>\n    <tr>\n      <th>9th</th>\n      <td>76.86</td>\n    </tr>\n    <tr>\n      <th rowspan=\"4\" valign=\"top\">Shelton High School</th>\n      <th>10th</th>\n      <td>82.92</td>\n    </tr>\n    <tr>\n      <th>11th</th>\n      <td>83.38</td>\n    </tr>\n    <tr>\n      <th>12th</th>\n      <td>83.78</td>\n    </tr>\n    <tr>\n      <th>9th</th>\n      <td>83.42</td>\n    </tr>\n    <tr>\n      <th rowspan=\"4\" valign=\"top\">Thomas High School</th>\n      <th>10th</th>\n      <td>83.09</td>\n    </tr>\n    <tr>\n      <th>11th</th>\n      <td>83.50</td>\n    </tr>\n    <tr>\n      <th>12th</th>\n      <td>83.50</td>\n    </tr>\n    <tr>\n      <th>9th</th>\n      <td>83.59</td>\n    </tr>\n    <tr>\n      <th rowspan=\"4\" valign=\"top\">Wilson High School</th>\n      <th>10th</th>\n      <td>83.72</td>\n    </tr>\n    <tr>\n      <th>11th</th>\n      <td>83.20</td>\n    </tr>\n    <tr>\n      <th>12th</th>\n      <td>83.04</td>\n    </tr>\n    <tr>\n      <th>9th</th>\n      <td>83.09</td>\n    </tr>\n    <tr>\n      <th rowspan=\"4\" valign=\"top\">Wright High School</th>\n      <th>10th</th>\n      <td>84.01</td>\n    </tr>\n    <tr>\n      <th>11th</th>\n      <td>83.84</td>\n    </tr>\n    <tr>\n      <th>12th</th>\n      <td>83.64</td>\n    </tr>\n    <tr>\n      <th>9th</th>\n      <td>83.26</td>\n    </tr>\n  </tbody>\n</table>\n</div>"
     },
     "metadata": {},
     "execution_count": 108
    }
   ],
   "source": [
    "# group the average math scores by school and grade and output to a dataframe table\n",
    "schoolgrademgrp=alldata_df.groupby([\"school_name\", \"grade\"]).agg({\"math_score\": [\"mean\"]}).round(2)\n",
    "schoolgrademgrp"
   ]
  },
  {
   "cell_type": "markdown",
   "metadata": {},
   "source": [
    "## Reading Score by Grade "
   ]
  },
  {
   "cell_type": "code",
   "execution_count": 109,
   "metadata": {},
   "outputs": [
    {
     "output_type": "execute_result",
     "data": {
      "text/plain": "                            reading_score\n                                     mean\nschool_name           grade              \nBailey High School    10th          80.91\n                      11th          80.95\n                      12th          80.91\n                      9th           81.30\nCabrera High School   10th          84.25\n                      11th          83.79\n                      12th          84.29\n                      9th           83.68\nFigueroa High School  10th          81.41\n                      11th          80.64\n                      12th          81.38\n                      9th           81.20\nFord High School      10th          81.26\n                      11th          80.40\n                      12th          80.66\n                      9th           80.63\nGriffin High School   10th          83.71\n                      11th          84.29\n                      12th          84.01\n                      9th           83.37\nHernandez High School 10th          80.66\n                      11th          81.40\n                      12th          80.86\n                      9th           80.87\nHolden High School    10th          83.32\n                      11th          83.82\n                      12th          84.70\n                      9th           83.68\nHuang High School     10th          81.51\n                      11th          81.42\n                      12th          80.31\n                      9th           81.29\nJohnson High School   10th          80.77\n                      11th          80.62\n                      12th          81.23\n                      9th           81.26\nPena High School      10th          83.61\n                      11th          84.34\n                      12th          84.59\n                      9th           83.81\nRodriguez High School 10th          80.63\n                      11th          80.86\n                      12th          80.38\n                      9th           80.99\nShelton High School   10th          83.44\n                      11th          84.37\n                      12th          82.78\n                      9th           84.12\nThomas High School    10th          84.25\n                      11th          83.59\n                      12th          83.83\n                      9th           83.73\nWilson High School    10th          84.02\n                      11th          83.76\n                      12th          84.32\n                      9th           83.94\nWright High School    10th          83.81\n                      11th          84.16\n                      12th          84.07\n                      9th           83.83",
      "text/html": "<div>\n<style scoped>\n    .dataframe tbody tr th:only-of-type {\n        vertical-align: middle;\n    }\n\n    .dataframe tbody tr th {\n        vertical-align: top;\n    }\n\n    .dataframe thead tr th {\n        text-align: left;\n    }\n\n    .dataframe thead tr:last-of-type th {\n        text-align: right;\n    }\n</style>\n<table border=\"1\" class=\"dataframe\">\n  <thead>\n    <tr>\n      <th></th>\n      <th></th>\n      <th>reading_score</th>\n    </tr>\n    <tr>\n      <th></th>\n      <th></th>\n      <th>mean</th>\n    </tr>\n    <tr>\n      <th>school_name</th>\n      <th>grade</th>\n      <th></th>\n    </tr>\n  </thead>\n  <tbody>\n    <tr>\n      <th rowspan=\"4\" valign=\"top\">Bailey High School</th>\n      <th>10th</th>\n      <td>80.91</td>\n    </tr>\n    <tr>\n      <th>11th</th>\n      <td>80.95</td>\n    </tr>\n    <tr>\n      <th>12th</th>\n      <td>80.91</td>\n    </tr>\n    <tr>\n      <th>9th</th>\n      <td>81.30</td>\n    </tr>\n    <tr>\n      <th rowspan=\"4\" valign=\"top\">Cabrera High School</th>\n      <th>10th</th>\n      <td>84.25</td>\n    </tr>\n    <tr>\n      <th>11th</th>\n      <td>83.79</td>\n    </tr>\n    <tr>\n      <th>12th</th>\n      <td>84.29</td>\n    </tr>\n    <tr>\n      <th>9th</th>\n      <td>83.68</td>\n    </tr>\n    <tr>\n      <th rowspan=\"4\" valign=\"top\">Figueroa High School</th>\n      <th>10th</th>\n      <td>81.41</td>\n    </tr>\n    <tr>\n      <th>11th</th>\n      <td>80.64</td>\n    </tr>\n    <tr>\n      <th>12th</th>\n      <td>81.38</td>\n    </tr>\n    <tr>\n      <th>9th</th>\n      <td>81.20</td>\n    </tr>\n    <tr>\n      <th rowspan=\"4\" valign=\"top\">Ford High School</th>\n      <th>10th</th>\n      <td>81.26</td>\n    </tr>\n    <tr>\n      <th>11th</th>\n      <td>80.40</td>\n    </tr>\n    <tr>\n      <th>12th</th>\n      <td>80.66</td>\n    </tr>\n    <tr>\n      <th>9th</th>\n      <td>80.63</td>\n    </tr>\n    <tr>\n      <th rowspan=\"4\" valign=\"top\">Griffin High School</th>\n      <th>10th</th>\n      <td>83.71</td>\n    </tr>\n    <tr>\n      <th>11th</th>\n      <td>84.29</td>\n    </tr>\n    <tr>\n      <th>12th</th>\n      <td>84.01</td>\n    </tr>\n    <tr>\n      <th>9th</th>\n      <td>83.37</td>\n    </tr>\n    <tr>\n      <th rowspan=\"4\" valign=\"top\">Hernandez High School</th>\n      <th>10th</th>\n      <td>80.66</td>\n    </tr>\n    <tr>\n      <th>11th</th>\n      <td>81.40</td>\n    </tr>\n    <tr>\n      <th>12th</th>\n      <td>80.86</td>\n    </tr>\n    <tr>\n      <th>9th</th>\n      <td>80.87</td>\n    </tr>\n    <tr>\n      <th rowspan=\"4\" valign=\"top\">Holden High School</th>\n      <th>10th</th>\n      <td>83.32</td>\n    </tr>\n    <tr>\n      <th>11th</th>\n      <td>83.82</td>\n    </tr>\n    <tr>\n      <th>12th</th>\n      <td>84.70</td>\n    </tr>\n    <tr>\n      <th>9th</th>\n      <td>83.68</td>\n    </tr>\n    <tr>\n      <th rowspan=\"4\" valign=\"top\">Huang High School</th>\n      <th>10th</th>\n      <td>81.51</td>\n    </tr>\n    <tr>\n      <th>11th</th>\n      <td>81.42</td>\n    </tr>\n    <tr>\n      <th>12th</th>\n      <td>80.31</td>\n    </tr>\n    <tr>\n      <th>9th</th>\n      <td>81.29</td>\n    </tr>\n    <tr>\n      <th rowspan=\"4\" valign=\"top\">Johnson High School</th>\n      <th>10th</th>\n      <td>80.77</td>\n    </tr>\n    <tr>\n      <th>11th</th>\n      <td>80.62</td>\n    </tr>\n    <tr>\n      <th>12th</th>\n      <td>81.23</td>\n    </tr>\n    <tr>\n      <th>9th</th>\n      <td>81.26</td>\n    </tr>\n    <tr>\n      <th rowspan=\"4\" valign=\"top\">Pena High School</th>\n      <th>10th</th>\n      <td>83.61</td>\n    </tr>\n    <tr>\n      <th>11th</th>\n      <td>84.34</td>\n    </tr>\n    <tr>\n      <th>12th</th>\n      <td>84.59</td>\n    </tr>\n    <tr>\n      <th>9th</th>\n      <td>83.81</td>\n    </tr>\n    <tr>\n      <th rowspan=\"4\" valign=\"top\">Rodriguez High School</th>\n      <th>10th</th>\n      <td>80.63</td>\n    </tr>\n    <tr>\n      <th>11th</th>\n      <td>80.86</td>\n    </tr>\n    <tr>\n      <th>12th</th>\n      <td>80.38</td>\n    </tr>\n    <tr>\n      <th>9th</th>\n      <td>80.99</td>\n    </tr>\n    <tr>\n      <th rowspan=\"4\" valign=\"top\">Shelton High School</th>\n      <th>10th</th>\n      <td>83.44</td>\n    </tr>\n    <tr>\n      <th>11th</th>\n      <td>84.37</td>\n    </tr>\n    <tr>\n      <th>12th</th>\n      <td>82.78</td>\n    </tr>\n    <tr>\n      <th>9th</th>\n      <td>84.12</td>\n    </tr>\n    <tr>\n      <th rowspan=\"4\" valign=\"top\">Thomas High School</th>\n      <th>10th</th>\n      <td>84.25</td>\n    </tr>\n    <tr>\n      <th>11th</th>\n      <td>83.59</td>\n    </tr>\n    <tr>\n      <th>12th</th>\n      <td>83.83</td>\n    </tr>\n    <tr>\n      <th>9th</th>\n      <td>83.73</td>\n    </tr>\n    <tr>\n      <th rowspan=\"4\" valign=\"top\">Wilson High School</th>\n      <th>10th</th>\n      <td>84.02</td>\n    </tr>\n    <tr>\n      <th>11th</th>\n      <td>83.76</td>\n    </tr>\n    <tr>\n      <th>12th</th>\n      <td>84.32</td>\n    </tr>\n    <tr>\n      <th>9th</th>\n      <td>83.94</td>\n    </tr>\n    <tr>\n      <th rowspan=\"4\" valign=\"top\">Wright High School</th>\n      <th>10th</th>\n      <td>83.81</td>\n    </tr>\n    <tr>\n      <th>11th</th>\n      <td>84.16</td>\n    </tr>\n    <tr>\n      <th>12th</th>\n      <td>84.07</td>\n    </tr>\n    <tr>\n      <th>9th</th>\n      <td>83.83</td>\n    </tr>\n  </tbody>\n</table>\n</div>"
     },
     "metadata": {},
     "execution_count": 109
    }
   ],
   "source": [
    "# group the average reading scores by school and grade and output to a dataframe table\n",
    "schoolgradergrp=alldata_df.groupby([\"school_name\", \"grade\"]).agg({\"reading_score\": [\"mean\"]}).round(2)\n",
    "schoolgradergrp"
   ]
  },
  {
   "cell_type": "markdown",
   "metadata": {},
   "source": [
    "## Scores by School Spending"
   ]
  },
  {
   "cell_type": "code",
   "execution_count": 116,
   "metadata": {},
   "outputs": [
    {
     "output_type": "execute_result",
     "data": {
      "text/plain": "                Average Math Score  Average Reading Score  % Passing Math  \\\nSpending Group                                                              \n240k to 980k             83.583479              83.893245           93.66   \n980k to 1.72m            83.351933              83.905751           93.71   \n1.72m to 2.46m           76.808251              81.035328           66.62   \n2.46m to 3.2m            77.070764              80.928365           66.47   \n\n                % Passing Reading  % Overall Passing  \nSpending Group                                        \n240k to 980k                96.60              90.37  \n980k to 1.72m               96.66              90.62  \n1.72m to 2.46m              80.48              53.65  \n2.46m to 3.2m               81.11              53.72  ",
      "text/html": "<div>\n<style scoped>\n    .dataframe tbody tr th:only-of-type {\n        vertical-align: middle;\n    }\n\n    .dataframe tbody tr th {\n        vertical-align: top;\n    }\n\n    .dataframe thead th {\n        text-align: right;\n    }\n</style>\n<table border=\"1\" class=\"dataframe\">\n  <thead>\n    <tr style=\"text-align: right;\">\n      <th></th>\n      <th>Average Math Score</th>\n      <th>Average Reading Score</th>\n      <th>% Passing Math</th>\n      <th>% Passing Reading</th>\n      <th>% Overall Passing</th>\n    </tr>\n    <tr>\n      <th>Spending Group</th>\n      <th></th>\n      <th></th>\n      <th></th>\n      <th></th>\n      <th></th>\n    </tr>\n  </thead>\n  <tbody>\n    <tr>\n      <th>240k to 980k</th>\n      <td>83.583479</td>\n      <td>83.893245</td>\n      <td>93.66</td>\n      <td>96.60</td>\n      <td>90.37</td>\n    </tr>\n    <tr>\n      <th>980k to 1.72m</th>\n      <td>83.351933</td>\n      <td>83.905751</td>\n      <td>93.71</td>\n      <td>96.66</td>\n      <td>90.62</td>\n    </tr>\n    <tr>\n      <th>1.72m to 2.46m</th>\n      <td>76.808251</td>\n      <td>81.035328</td>\n      <td>66.62</td>\n      <td>80.48</td>\n      <td>53.65</td>\n    </tr>\n    <tr>\n      <th>2.46m to 3.2m</th>\n      <td>77.070764</td>\n      <td>80.928365</td>\n      <td>66.47</td>\n      <td>81.11</td>\n      <td>53.72</td>\n    </tr>\n  </tbody>\n</table>\n</div>"
     },
     "metadata": {},
     "execution_count": 116
    }
   ],
   "source": [
    "# Create spending/budget bins for aggregating the schools and create a new dataframe with a column containing the schools spend category\n",
    "spend_bins=[240000,980000,1720000,2460000,3200000]\n",
    "spend_labels=[\"240k to 980k\", \"980k to 1.72m\", \"1.72m to 2.46m\", \"2.46m to 3.2m\"]\n",
    "spend_df=alldata_df.copy()\n",
    "spend_df[\"Spending Group\"]=pd.cut(spend_df[\"budget\"], spend_bins, labels=spend_labels, include_lowest=True)\n",
    "\n",
    "# Segregate the data by the spoening group column in a new dataframe\n",
    "spendgrp_df=spend_df.groupby([\"Spending Group\"])\n",
    "\n",
    "# count the number of students within each spend group and assign to variable \n",
    "spendstudcount=spendgrp_df[\"Student ID\"].count()\n",
    "\n",
    "# Block to caluculate the number and percent of total students passing math, reading, and both within each spend group\n",
    "spndpassmath=spend_df.loc[spend_df[\"math_score\"]>69,:]\n",
    "spndmathgrp=spndpassmath.groupby([\"Spending Group\"])\n",
    "spndgrppassmath=spndmathgrp[\"Student ID\"].count()\n",
    "spendperpassmath=round((spndgrppassmath/spendstudcount)*100,2)\n",
    "spndpassread=spend_df.loc[spend_df[\"reading_score\"]>69,:]\n",
    "spndreadgrp=spndpassread.groupby([\"Spending Group\"])\n",
    "spndgrppassread=spndreadgrp[\"Student ID\"].count()\n",
    "spendperpassread=round((spndgrppassread/spendstudcount)*100,2)\n",
    "spndpassboth=spend_df.loc[(spend_df[\"math_score\"]>69) & (spend_df[\"reading_score\"]>69),:]\n",
    "spndbothgrp=spndpassboth.groupby([\"Spending Group\"])\n",
    "spndgrppassboth=spndbothgrp[\"Student ID\"].count()\n",
    "spendperpassboth=round((spndgrppassboth/spendstudcount)*100,2)\n",
    "\n",
    "# Calculate the average math and reading scores by spending group and assign to variables \n",
    "spendavemath=spendgrp_df[\"math_score\"].mean()\n",
    "spendaveread=spendgrp_df[\"reading_score\"].mean()\n",
    "\n",
    "# Create a dictionary to be used for the output dataframe table\n",
    "spend_dict={\"Average Math Score\":spendavemath, \"Average Reading Score\": spendaveread, \"% Passing Math\":spendperpassmath, \"% Passing Reading\":spendperpassread, \"% Overall Passing\":spendperpassboth}\n",
    "\n",
    "# Create a dataframe from the dictionary to be used for the results output table\n",
    "spendsum_df=pd.DataFrame(spend_dict)\n",
    "\n",
    "#Output the dataframe table\n",
    "spendsum_df"
   ]
  },
  {
   "cell_type": "markdown",
   "metadata": {},
   "source": [
    "## Scores by School Size"
   ]
  },
  {
   "cell_type": "code",
   "execution_count": 117,
   "metadata": {
    "scrolled": true
   },
   "outputs": [
    {
     "output_type": "execute_result",
     "data": {
      "text/plain": "            Average Math Score  Average Reading Score  % Passing Math  \\\nSize Group                                                              \nSmall                83.436586              83.882857           93.66   \nMedium               78.164034              81.654758           72.34   \nLarge                77.070764              80.928365           66.47   \n\n            % Passing Reading  % Overall Passing  \nSize Group                                        \nSmall                   96.67              90.56  \nMedium                  83.84              61.40  \nLarge                   81.11              53.72  ",
      "text/html": "<div>\n<style scoped>\n    .dataframe tbody tr th:only-of-type {\n        vertical-align: middle;\n    }\n\n    .dataframe tbody tr th {\n        vertical-align: top;\n    }\n\n    .dataframe thead th {\n        text-align: right;\n    }\n</style>\n<table border=\"1\" class=\"dataframe\">\n  <thead>\n    <tr style=\"text-align: right;\">\n      <th></th>\n      <th>Average Math Score</th>\n      <th>Average Reading Score</th>\n      <th>% Passing Math</th>\n      <th>% Passing Reading</th>\n      <th>% Overall Passing</th>\n    </tr>\n    <tr>\n      <th>Size Group</th>\n      <th></th>\n      <th></th>\n      <th></th>\n      <th></th>\n      <th></th>\n    </tr>\n  </thead>\n  <tbody>\n    <tr>\n      <th>Small</th>\n      <td>83.436586</td>\n      <td>83.882857</td>\n      <td>93.66</td>\n      <td>96.67</td>\n      <td>90.56</td>\n    </tr>\n    <tr>\n      <th>Medium</th>\n      <td>78.164034</td>\n      <td>81.654758</td>\n      <td>72.34</td>\n      <td>83.84</td>\n      <td>61.40</td>\n    </tr>\n    <tr>\n      <th>Large</th>\n      <td>77.070764</td>\n      <td>80.928365</td>\n      <td>66.47</td>\n      <td>81.11</td>\n      <td>53.72</td>\n    </tr>\n  </tbody>\n</table>\n</div>"
     },
     "metadata": {},
     "execution_count": 117
    }
   ],
   "source": [
    "# Create size bins for aggregating the schools based on number of students and create a new dataframe with a column containing the schools size group category\n",
    "size_bins=[426,1947,3468,4989]\n",
    "size_labels=[\"Small\", \"Medium\", \"Large\"]\n",
    "size_df=alldata_df.copy()\n",
    "size_df[\"Size Group\"]=pd.cut(spend_df[\"size\"], size_bins, labels=size_labels, include_lowest=True)\n",
    "\n",
    "# Segregate the data by the size group column in a new dataframe\n",
    "sizegrp_df=size_df.groupby([\"Size Group\"])\n",
    "\n",
    "# count the number of students within each size group and assign to variable \n",
    "sizestudcount=sizegrp_df[\"Student ID\"].count()\n",
    "\n",
    "# Block to calculate the number and percent of total students passing math, reading, and both within each size group\n",
    "sizepassmath=size_df.loc[size_df[\"math_score\"]>69,:]\n",
    "sizemathgrp=sizepassmath.groupby([\"Size Group\"])\n",
    "sizegrppassmath=sizemathgrp[\"Student ID\"].count()\n",
    "sizeperpassmath=round((sizegrppassmath/sizestudcount)*100,2)\n",
    "sizepassread=size_df.loc[size_df[\"reading_score\"]>69,:]\n",
    "sizereadgrp=sizepassread.groupby([\"Size Group\"])\n",
    "sizegrppassread=sizereadgrp[\"Student ID\"].count()\n",
    "sizeperpassread=round((sizegrppassread/sizestudcount)*100,2)\n",
    "sizepassboth=size_df.loc[(size_df[\"math_score\"]>69) & (size_df[\"reading_score\"]>69),:]\n",
    "sizebothgrp=sizepassboth.groupby([\"Size Group\"])\n",
    "sizegrppassboth=sizebothgrp[\"Student ID\"].count()\n",
    "sizeperpassboth=round((sizegrppassboth/sizestudcount)*100,2)\n",
    "\n",
    "# Calculate the average math and reading scores by size group and assign to variables\n",
    "sizeavemath=sizegrp_df[\"math_score\"].mean()\n",
    "sizeaveread=sizegrp_df[\"reading_score\"].mean()\n",
    "\n",
    "# Create a dictionary to be used for the output dataframe table\n",
    "size_dict={\"Average Math Score\":sizeavemath, \"Average Reading Score\": sizeaveread, \"% Passing Math\":sizeperpassmath, \"% Passing Reading\":sizeperpassread, \"% Overall Passing\":sizeperpassboth}\n",
    "\n",
    "# Create a dataframe from the dictionary to be used for the results output table\n",
    "sizesum_df=pd.DataFrame(size_dict)\n",
    "\n",
    "#Output the datafarme table\n",
    "sizesum_df"
   ]
  },
  {
   "cell_type": "markdown",
   "metadata": {},
   "source": [
    "## Scores by School Type"
   ]
  },
  {
   "cell_type": "code",
   "execution_count": 129,
   "metadata": {},
   "outputs": [
    {
     "output_type": "execute_result",
     "data": {
      "text/plain": "          Average Math Score  Average Reading Score  % Passing Math  \\\ntype                                                                  \nCharter            83.406183              83.902821           93.70   \nDistrict           76.987026              80.962485           66.52   \n\n          % Passing Reading  % Overall Passing  \ntype                                            \nCharter               96.65              90.56  \nDistrict              80.91              53.70  ",
      "text/html": "<div>\n<style scoped>\n    .dataframe tbody tr th:only-of-type {\n        vertical-align: middle;\n    }\n\n    .dataframe tbody tr th {\n        vertical-align: top;\n    }\n\n    .dataframe thead th {\n        text-align: right;\n    }\n</style>\n<table border=\"1\" class=\"dataframe\">\n  <thead>\n    <tr style=\"text-align: right;\">\n      <th></th>\n      <th>Average Math Score</th>\n      <th>Average Reading Score</th>\n      <th>% Passing Math</th>\n      <th>% Passing Reading</th>\n      <th>% Overall Passing</th>\n    </tr>\n    <tr>\n      <th>type</th>\n      <th></th>\n      <th></th>\n      <th></th>\n      <th></th>\n      <th></th>\n    </tr>\n  </thead>\n  <tbody>\n    <tr>\n      <th>Charter</th>\n      <td>83.406183</td>\n      <td>83.902821</td>\n      <td>93.70</td>\n      <td>96.65</td>\n      <td>90.56</td>\n    </tr>\n    <tr>\n      <th>District</th>\n      <td>76.987026</td>\n      <td>80.962485</td>\n      <td>66.52</td>\n      <td>80.91</td>\n      <td>53.70</td>\n    </tr>\n  </tbody>\n</table>\n</div>"
     },
     "metadata": {},
     "execution_count": 129
    }
   ],
   "source": [
    "# Create a new dataframe copy fom the original dataframe\n",
    "type_df=alldata_df.copy()\n",
    "\n",
    "# Segregate the data into a new datframe based on the type of school\n",
    "typegrp_df=type_df.groupby([\"type\"])\n",
    "\n",
    "# Count the number of students in each school type category anmd assign to a variable\n",
    "typestudcount=typegrp_df[\"Student ID\"].count()\n",
    "\n",
    "# Block to calculate the number and percent of total students passing math, reading, and both within each school type group\n",
    "typepassmath=type_df.loc[type_df[\"math_score\"]>69,:]\n",
    "typemathgrp=typepassmath.groupby([\"type\"])\n",
    "typegrppassmath=typemathgrp[\"Student ID\"].count()\n",
    "typeperpassmath=round((typegrppassmath/typestudcount)*100,2)\n",
    "typepassread=type_df.loc[type_df[\"reading_score\"]>69,:]\n",
    "typereadgrp=typepassread.groupby([\"type\"])\n",
    "typegrppassread=typereadgrp[\"Student ID\"].count()\n",
    "typeperpassread=round((typegrppassread/typestudcount)*100,2)\n",
    "typepassboth=type_df.loc[(type_df[\"math_score\"]>69) & (type_df[\"reading_score\"]>69),:]\n",
    "typebothgrp=typepassboth.groupby([\"type\"])\n",
    "typegrppassboth=typebothgrp[\"Student ID\"].count()\n",
    "typeperpassboth=round((typegrppassboth/typestudcount)*100,2)\n",
    "\n",
    "# calculate the average reading and math scores for students in each school type group\n",
    "typeavemath=typegrp_df[\"math_score\"].mean()\n",
    "typeaveread=typegrp_df[\"reading_score\"].mean()\n",
    "\n",
    "#Create a dictionary to be used for the output dataframe table\n",
    "type_dict={\"Average Math Score\":typeavemath, \"Average Reading Score\": typeaveread, \"% Passing Math\":typeperpassmath, \"% Passing Reading\":typeperpassread, \"% Overall Passing\":typeperpassboth}\n",
    "\n",
    "#Create a dataframe from the dictionary\n",
    "typesum_df=pd.DataFrame(type_dict)\n",
    "\n",
    "#Output the dataframe table\n",
    "typesum_df\n"
   ]
  },
  {
   "cell_type": "code",
   "execution_count": null,
   "metadata": {},
   "outputs": [],
   "source": []
  }
 ],
 "metadata": {
  "anaconda-cloud": {},
  "kernel_info": {
   "name": "python3"
  },
  "kernelspec": {
   "display_name": "Python 3",
   "language": "python",
   "name": "python3"
  },
  "language_info": {
   "codemirror_mode": {
    "name": "ipython",
    "version": 3
   },
   "file_extension": ".py",
   "mimetype": "text/x-python",
   "name": "python",
   "nbconvert_exporter": "python",
   "pygments_lexer": "ipython3",
   "version": "3.8.3-final"
  },
  "latex_envs": {
   "LaTeX_envs_menu_present": true,
   "autoclose": false,
   "autocomplete": true,
   "bibliofile": "biblio.bib",
   "cite_by": "apalike",
   "current_citInitial": 1,
   "eqLabelWithNumbers": true,
   "eqNumInitial": 1,
   "hotkeys": {
    "equation": "Ctrl-E",
    "itemize": "Ctrl-I"
   },
   "labels_anchors": false,
   "latex_user_defs": false,
   "report_style_numbering": false,
   "user_envs_cfg": false
  },
  "nteract": {
   "version": "0.8.4"
  }
 },
 "nbformat": 4,
 "nbformat_minor": 1
}